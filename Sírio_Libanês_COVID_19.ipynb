{
  "nbformat": 4,
  "nbformat_minor": 0,
  "metadata": {
    "colab": {
      "name": "Sírio-Libanês COVID-19.ipynb",
      "provenance": [],
      "collapsed_sections": [],
      "toc_visible": true
    },
    "kernelspec": {
      "name": "python3",
      "display_name": "Python 3"
    }
  },
  "cells": [
    {
      "cell_type": "markdown",
      "metadata": {
        "id": "R0DSuI-oXZ-H",
        "colab_type": "text"
      },
      "source": [
        "### Sírio-Libanês COVID-19 - Clinical Data to assess diagnosis\n",
        "<hr>\n",
        "<br>\n",
        "\n",
        "\n",
        "\n",
        "<p align=center>\n",
        "<img src=\"https://brasiliaempresas.com.br/wp-content/uploads/2019/02/hospital-sirio-libanes.jpg\" width=\"60%\"></p>\n",
        "\n",
        "\n",
        "\n",
        "#### <b>Context</b>\n",
        "COVID-19 pandemic impacted the whole world, overwhelming healthcare systems - unprepared for such intense and lengthy request for ICU beds, professionals, personal protection equipment and healthcare resources.\n",
        "Brazil recorded first COVID-19 case on February 26 and reached community transmission on March 20\n",
        "\n",
        "\n",
        "<br>\n",
        "<hr>"
      ]
    },
    {
      "cell_type": "markdown",
      "metadata": {
        "id": "zTykC-K9pNPy",
        "colab_type": "text"
      },
      "source": [
        "<br>\n",
        "\n",
        "### <b>Goal</b> \n",
        "\n",
        "Predict admission to the ICU of confirmed COVID-19 cases.\n",
        "Based on the data available, is it feasible to predict which patients will need intensive care unit support?\n",
        "The aim is to provide tertiary and quarternary hospitals with the most accurate answer, so ICU resources can be arranged or patient transfer can be scheduled.\n",
        "\n",
        "\n",
        "<br>\n",
        "<hr>\n",
        "\n"
      ]
    },
    {
      "cell_type": "markdown",
      "metadata": {
        "id": "uC24rrJ9Xahd",
        "colab_type": "text"
      },
      "source": [
        "### 1. Frameworks\n",
        "\n",
        "<br>"
      ]
    },
    {
      "cell_type": "code",
      "metadata": {
        "id": "t6R_vT_bYqbW",
        "colab_type": "code",
        "colab": {
          "base_uri": "https://localhost:8080/",
          "height": 666
        },
        "outputId": "90367109-ef6d-45c3-92e3-403029439095"
      },
      "source": [
        "!pip install catboost\n",
        "!pip install hyperopt \n",
        "!pip install mlxtend"
      ],
      "execution_count": 1,
      "outputs": [
        {
          "output_type": "stream",
          "text": [
            "Requirement already satisfied: catboost in /usr/local/lib/python3.6/dist-packages (0.23.2)\n",
            "Requirement already satisfied: six in /usr/local/lib/python3.6/dist-packages (from catboost) (1.12.0)\n",
            "Requirement already satisfied: matplotlib in /usr/local/lib/python3.6/dist-packages (from catboost) (3.2.2)\n",
            "Requirement already satisfied: graphviz in /usr/local/lib/python3.6/dist-packages (from catboost) (0.10.1)\n",
            "Requirement already satisfied: scipy in /usr/local/lib/python3.6/dist-packages (from catboost) (1.4.1)\n",
            "Requirement already satisfied: pandas>=0.24.0 in /usr/local/lib/python3.6/dist-packages (from catboost) (1.0.5)\n",
            "Requirement already satisfied: plotly in /usr/local/lib/python3.6/dist-packages (from catboost) (4.4.1)\n",
            "Requirement already satisfied: numpy>=1.16.0 in /usr/local/lib/python3.6/dist-packages (from catboost) (1.18.5)\n",
            "Requirement already satisfied: python-dateutil>=2.1 in /usr/local/lib/python3.6/dist-packages (from matplotlib->catboost) (2.8.1)\n",
            "Requirement already satisfied: pyparsing!=2.0.4,!=2.1.2,!=2.1.6,>=2.0.1 in /usr/local/lib/python3.6/dist-packages (from matplotlib->catboost) (2.4.7)\n",
            "Requirement already satisfied: kiwisolver>=1.0.1 in /usr/local/lib/python3.6/dist-packages (from matplotlib->catboost) (1.2.0)\n",
            "Requirement already satisfied: cycler>=0.10 in /usr/local/lib/python3.6/dist-packages (from matplotlib->catboost) (0.10.0)\n",
            "Requirement already satisfied: pytz>=2017.2 in /usr/local/lib/python3.6/dist-packages (from pandas>=0.24.0->catboost) (2018.9)\n",
            "Requirement already satisfied: retrying>=1.3.3 in /usr/local/lib/python3.6/dist-packages (from plotly->catboost) (1.3.3)\n",
            "Requirement already satisfied: hyperopt in /usr/local/lib/python3.6/dist-packages (0.1.2)\n",
            "Requirement already satisfied: tqdm in /usr/local/lib/python3.6/dist-packages (from hyperopt) (4.41.1)\n",
            "Requirement already satisfied: future in /usr/local/lib/python3.6/dist-packages (from hyperopt) (0.16.0)\n",
            "Requirement already satisfied: numpy in /usr/local/lib/python3.6/dist-packages (from hyperopt) (1.18.5)\n",
            "Requirement already satisfied: pymongo in /usr/local/lib/python3.6/dist-packages (from hyperopt) (3.10.1)\n",
            "Requirement already satisfied: scipy in /usr/local/lib/python3.6/dist-packages (from hyperopt) (1.4.1)\n",
            "Requirement already satisfied: networkx in /usr/local/lib/python3.6/dist-packages (from hyperopt) (2.4)\n",
            "Requirement already satisfied: six in /usr/local/lib/python3.6/dist-packages (from hyperopt) (1.12.0)\n",
            "Requirement already satisfied: decorator>=4.3.0 in /usr/local/lib/python3.6/dist-packages (from networkx->hyperopt) (4.4.2)\n",
            "Requirement already satisfied: mlxtend in /usr/local/lib/python3.6/dist-packages (0.14.0)\n",
            "Requirement already satisfied: matplotlib>=1.5.1 in /usr/local/lib/python3.6/dist-packages (from mlxtend) (3.2.2)\n",
            "Requirement already satisfied: scipy>=0.17 in /usr/local/lib/python3.6/dist-packages (from mlxtend) (1.4.1)\n",
            "Requirement already satisfied: numpy>=1.10.4 in /usr/local/lib/python3.6/dist-packages (from mlxtend) (1.18.5)\n",
            "Requirement already satisfied: pandas>=0.17.1 in /usr/local/lib/python3.6/dist-packages (from mlxtend) (1.0.5)\n",
            "Requirement already satisfied: setuptools in /usr/local/lib/python3.6/dist-packages (from mlxtend) (47.3.1)\n",
            "Requirement already satisfied: scikit-learn>=0.18 in /usr/local/lib/python3.6/dist-packages (from mlxtend) (0.22.2.post1)\n",
            "Requirement already satisfied: cycler>=0.10 in /usr/local/lib/python3.6/dist-packages (from matplotlib>=1.5.1->mlxtend) (0.10.0)\n",
            "Requirement already satisfied: pyparsing!=2.0.4,!=2.1.2,!=2.1.6,>=2.0.1 in /usr/local/lib/python3.6/dist-packages (from matplotlib>=1.5.1->mlxtend) (2.4.7)\n",
            "Requirement already satisfied: python-dateutil>=2.1 in /usr/local/lib/python3.6/dist-packages (from matplotlib>=1.5.1->mlxtend) (2.8.1)\n",
            "Requirement already satisfied: kiwisolver>=1.0.1 in /usr/local/lib/python3.6/dist-packages (from matplotlib>=1.5.1->mlxtend) (1.2.0)\n",
            "Requirement already satisfied: pytz>=2017.2 in /usr/local/lib/python3.6/dist-packages (from pandas>=0.17.1->mlxtend) (2018.9)\n",
            "Requirement already satisfied: joblib>=0.11 in /usr/local/lib/python3.6/dist-packages (from scikit-learn>=0.18->mlxtend) (0.15.1)\n",
            "Requirement already satisfied: six in /usr/local/lib/python3.6/dist-packages (from cycler>=0.10->matplotlib>=1.5.1->mlxtend) (1.12.0)\n"
          ],
          "name": "stdout"
        }
      ]
    },
    {
      "cell_type": "code",
      "metadata": {
        "id": "2YZoB9egXIC8",
        "colab_type": "code",
        "colab": {
          "base_uri": "https://localhost:8080/",
          "height": 71
        },
        "outputId": "0fc889a2-2391-4692-83ee-cf364d66099c"
      },
      "source": [
        "import numpy as np\n",
        "import pandas as pd \n",
        "import matplotlib.pyplot as plt \n",
        "import seaborn as sns\n",
        "\n",
        "%matplotlib inline \n",
        "import warnings\n",
        "warnings.filterwarnings('ignore')\n",
        "\n",
        "import functools\n",
        "from hyperopt import hp, fmin, Trials, tpe\n",
        "from sklearn.preprocessing import MinMaxScaler, OneHotEncoder\n",
        "from sklearn.preprocessing import StandardScaler\n",
        "from sklearn.impute import SimpleImputer\n",
        "from sklearn.model_selection import StratifiedKFold, StratifiedShuffleSplit\n",
        "from sklearn.model_selection import train_test_split\n",
        "from sklearn.feature_selection import SelectKBest, SelectFromModel\n",
        "from sklearn.feature_selection import chi2, f_classif\n",
        "from sklearn.metrics import classification_report, average_precision_score, accuracy_score, f1_score\n",
        "from sklearn.metrics import roc_auc_score, roc_curve, confusion_matrix, precision_score, recall_score\n",
        "from sklearn.linear_model import LogisticRegression\n",
        "from sklearn.ensemble import StackingClassifier\n",
        "from mlxtend.classifier import StackingClassifier\n",
        "from sklearn.ensemble import RandomForestClassifier\n",
        "from catboost import CatBoostClassifier\n",
        "from lightgbm import LGBMClassifier\n",
        "from xgboost import XGBClassifier\n",
        "import xgboost as xgb"
      ],
      "execution_count": 2,
      "outputs": [
        {
          "output_type": "stream",
          "text": [
            "/usr/local/lib/python3.6/dist-packages/statsmodels/tools/_testing.py:19: FutureWarning: pandas.util.testing is deprecated. Use the functions in the public API at pandas.testing instead.\n",
            "  import pandas.util.testing as tm\n"
          ],
          "name": "stderr"
        }
      ]
    },
    {
      "cell_type": "markdown",
      "metadata": {
        "id": "BvaEPZu_altH",
        "colab_type": "text"
      },
      "source": [
        "<br>\n",
        "<hr>\n",
        "<br>\n",
        "<br>\n",
        "\n",
        "\n",
        "### 2. Exploratory Data analysis\n",
        "\n",
        "Let's explore the variables that most impact, the event that we are trying to predict.\n",
        "\n",
        "There are 231 features composed in this dataset, we have a high dimension included.\n",
        "\n",
        "As it is a set of medical data, the data are considered sensitive, because of this many features are already pre-processed and with their names changed, to prevent the data.\n",
        "\n",
        "\n",
        "\n",
        "\n",
        "<br>\n",
        "<hr>"
      ]
    },
    {
      "cell_type": "code",
      "metadata": {
        "id": "6wcIIZ_DYhwZ",
        "colab_type": "code",
        "colab": {
          "base_uri": "https://localhost:8080/",
          "height": 287
        },
        "outputId": "9d8d38ce-d10f-49c1-d68c-51fb1668d10a"
      },
      "source": [
        "# import data \n",
        "path = '/content/drive/My Drive/Inteligência Artificial - Colab/Sirio-Libanes/Kaggle_Sirio_Libanes_ICU_Prediction.xlsx'\n",
        "df = pd.read_excel(path)\n",
        "df.head()"
      ],
      "execution_count": 3,
      "outputs": [
        {
          "output_type": "execute_result",
          "data": {
            "text/html": [
              "<div>\n",
              "<style scoped>\n",
              "    .dataframe tbody tr th:only-of-type {\n",
              "        vertical-align: middle;\n",
              "    }\n",
              "\n",
              "    .dataframe tbody tr th {\n",
              "        vertical-align: top;\n",
              "    }\n",
              "\n",
              "    .dataframe thead th {\n",
              "        text-align: right;\n",
              "    }\n",
              "</style>\n",
              "<table border=\"1\" class=\"dataframe\">\n",
              "  <thead>\n",
              "    <tr style=\"text-align: right;\">\n",
              "      <th></th>\n",
              "      <th>PATIENT_VISIT_IDENTIFIER</th>\n",
              "      <th>AGE_ABOVE65</th>\n",
              "      <th>AGE_PERCENTIL</th>\n",
              "      <th>GENDER</th>\n",
              "      <th>DISEASE GROUPING 1</th>\n",
              "      <th>DISEASE GROUPING 2</th>\n",
              "      <th>DISEASE GROUPING 3</th>\n",
              "      <th>DISEASE GROUPING 4</th>\n",
              "      <th>DISEASE GROUPING 5</th>\n",
              "      <th>DISEASE GROUPING 6</th>\n",
              "      <th>HTN</th>\n",
              "      <th>IMMUNOCOMPROMISED</th>\n",
              "      <th>OTHER</th>\n",
              "      <th>ALBUMIN_MEDIAN</th>\n",
              "      <th>ALBUMIN_MEAN</th>\n",
              "      <th>ALBUMIN_MIN</th>\n",
              "      <th>ALBUMIN_MAX</th>\n",
              "      <th>ALBUMIN_DIFF</th>\n",
              "      <th>BE_ARTERIAL_MEDIAN</th>\n",
              "      <th>BE_ARTERIAL_MEAN</th>\n",
              "      <th>BE_ARTERIAL_MIN</th>\n",
              "      <th>BE_ARTERIAL_MAX</th>\n",
              "      <th>BE_ARTERIAL_DIFF</th>\n",
              "      <th>BE_VENOUS_MEDIAN</th>\n",
              "      <th>BE_VENOUS_MEAN</th>\n",
              "      <th>BE_VENOUS_MIN</th>\n",
              "      <th>BE_VENOUS_MAX</th>\n",
              "      <th>BE_VENOUS_DIFF</th>\n",
              "      <th>BIC_ARTERIAL_MEDIAN</th>\n",
              "      <th>BIC_ARTERIAL_MEAN</th>\n",
              "      <th>BIC_ARTERIAL_MIN</th>\n",
              "      <th>BIC_ARTERIAL_MAX</th>\n",
              "      <th>BIC_ARTERIAL_DIFF</th>\n",
              "      <th>BIC_VENOUS_MEDIAN</th>\n",
              "      <th>BIC_VENOUS_MEAN</th>\n",
              "      <th>BIC_VENOUS_MIN</th>\n",
              "      <th>BIC_VENOUS_MAX</th>\n",
              "      <th>BIC_VENOUS_DIFF</th>\n",
              "      <th>BILLIRUBIN_MEDIAN</th>\n",
              "      <th>BILLIRUBIN_MEAN</th>\n",
              "      <th>...</th>\n",
              "      <th>DIMER_MAX</th>\n",
              "      <th>DIMER_DIFF</th>\n",
              "      <th>BLOODPRESSURE_DIASTOLIC_MEAN</th>\n",
              "      <th>BLOODPRESSURE_SISTOLIC_MEAN</th>\n",
              "      <th>HEART_RATE_MEAN</th>\n",
              "      <th>RESPIRATORY_RATE_MEAN</th>\n",
              "      <th>TEMPERATURE_MEAN</th>\n",
              "      <th>OXYGEN_SATURATION_MEAN</th>\n",
              "      <th>BLOODPRESSURE_DIASTOLIC_MEDIAN</th>\n",
              "      <th>BLOODPRESSURE_SISTOLIC_MEDIAN</th>\n",
              "      <th>HEART_RATE_MEDIAN</th>\n",
              "      <th>RESPIRATORY_RATE_MEDIAN</th>\n",
              "      <th>TEMPERATURE_MEDIAN</th>\n",
              "      <th>OXYGEN_SATURATION_MEDIAN</th>\n",
              "      <th>BLOODPRESSURE_DIASTOLIC_MIN</th>\n",
              "      <th>BLOODPRESSURE_SISTOLIC_MIN</th>\n",
              "      <th>HEART_RATE_MIN</th>\n",
              "      <th>RESPIRATORY_RATE_MIN</th>\n",
              "      <th>TEMPERATURE_MIN</th>\n",
              "      <th>OXYGEN_SATURATION_MIN</th>\n",
              "      <th>BLOODPRESSURE_DIASTOLIC_MAX</th>\n",
              "      <th>BLOODPRESSURE_SISTOLIC_MAX</th>\n",
              "      <th>HEART_RATE_MAX</th>\n",
              "      <th>RESPIRATORY_RATE_MAX</th>\n",
              "      <th>TEMPERATURE_MAX</th>\n",
              "      <th>OXYGEN_SATURATION_MAX</th>\n",
              "      <th>BLOODPRESSURE_DIASTOLIC_DIFF</th>\n",
              "      <th>BLOODPRESSURE_SISTOLIC_DIFF</th>\n",
              "      <th>HEART_RATE_DIFF</th>\n",
              "      <th>RESPIRATORY_RATE_DIFF</th>\n",
              "      <th>TEMPERATURE_DIFF</th>\n",
              "      <th>OXYGEN_SATURATION_DIFF</th>\n",
              "      <th>BLOODPRESSURE_DIASTOLIC_DIFF_REL</th>\n",
              "      <th>BLOODPRESSURE_SISTOLIC_DIFF_REL</th>\n",
              "      <th>HEART_RATE_DIFF_REL</th>\n",
              "      <th>RESPIRATORY_RATE_DIFF_REL</th>\n",
              "      <th>TEMPERATURE_DIFF_REL</th>\n",
              "      <th>OXYGEN_SATURATION_DIFF_REL</th>\n",
              "      <th>WINDOW</th>\n",
              "      <th>ICU</th>\n",
              "    </tr>\n",
              "  </thead>\n",
              "  <tbody>\n",
              "    <tr>\n",
              "      <th>0</th>\n",
              "      <td>0</td>\n",
              "      <td>1</td>\n",
              "      <td>60th</td>\n",
              "      <td>0</td>\n",
              "      <td>0.0</td>\n",
              "      <td>0.0</td>\n",
              "      <td>0.0</td>\n",
              "      <td>0.0</td>\n",
              "      <td>1.0</td>\n",
              "      <td>1.0</td>\n",
              "      <td>0.0</td>\n",
              "      <td>0.0</td>\n",
              "      <td>1.0</td>\n",
              "      <td>NaN</td>\n",
              "      <td>NaN</td>\n",
              "      <td>NaN</td>\n",
              "      <td>NaN</td>\n",
              "      <td>NaN</td>\n",
              "      <td>NaN</td>\n",
              "      <td>NaN</td>\n",
              "      <td>NaN</td>\n",
              "      <td>NaN</td>\n",
              "      <td>NaN</td>\n",
              "      <td>NaN</td>\n",
              "      <td>NaN</td>\n",
              "      <td>NaN</td>\n",
              "      <td>NaN</td>\n",
              "      <td>NaN</td>\n",
              "      <td>NaN</td>\n",
              "      <td>NaN</td>\n",
              "      <td>NaN</td>\n",
              "      <td>NaN</td>\n",
              "      <td>NaN</td>\n",
              "      <td>NaN</td>\n",
              "      <td>NaN</td>\n",
              "      <td>NaN</td>\n",
              "      <td>NaN</td>\n",
              "      <td>NaN</td>\n",
              "      <td>NaN</td>\n",
              "      <td>NaN</td>\n",
              "      <td>...</td>\n",
              "      <td>NaN</td>\n",
              "      <td>NaN</td>\n",
              "      <td>0.086420</td>\n",
              "      <td>-0.230769</td>\n",
              "      <td>-0.283019</td>\n",
              "      <td>-0.593220</td>\n",
              "      <td>-0.285714</td>\n",
              "      <td>0.736842</td>\n",
              "      <td>0.086420</td>\n",
              "      <td>-0.230769</td>\n",
              "      <td>-0.283019</td>\n",
              "      <td>-0.586207</td>\n",
              "      <td>-0.285714</td>\n",
              "      <td>0.736842</td>\n",
              "      <td>0.237113</td>\n",
              "      <td>0.0000</td>\n",
              "      <td>-0.162393</td>\n",
              "      <td>-0.500000</td>\n",
              "      <td>0.208791</td>\n",
              "      <td>0.898990</td>\n",
              "      <td>-0.247863</td>\n",
              "      <td>-0.459459</td>\n",
              "      <td>-0.432836</td>\n",
              "      <td>-0.636364</td>\n",
              "      <td>-0.420290</td>\n",
              "      <td>0.736842</td>\n",
              "      <td>-1.00000</td>\n",
              "      <td>-1.000000</td>\n",
              "      <td>-1.000000</td>\n",
              "      <td>-1.000000</td>\n",
              "      <td>-1.000000</td>\n",
              "      <td>-1.000000</td>\n",
              "      <td>-1.000000</td>\n",
              "      <td>-1.000000</td>\n",
              "      <td>-1.000000</td>\n",
              "      <td>-1.000000</td>\n",
              "      <td>-1.000000</td>\n",
              "      <td>-1.000000</td>\n",
              "      <td>0-2</td>\n",
              "      <td>0</td>\n",
              "    </tr>\n",
              "    <tr>\n",
              "      <th>1</th>\n",
              "      <td>0</td>\n",
              "      <td>1</td>\n",
              "      <td>60th</td>\n",
              "      <td>0</td>\n",
              "      <td>0.0</td>\n",
              "      <td>0.0</td>\n",
              "      <td>0.0</td>\n",
              "      <td>0.0</td>\n",
              "      <td>1.0</td>\n",
              "      <td>1.0</td>\n",
              "      <td>0.0</td>\n",
              "      <td>0.0</td>\n",
              "      <td>1.0</td>\n",
              "      <td>NaN</td>\n",
              "      <td>NaN</td>\n",
              "      <td>NaN</td>\n",
              "      <td>NaN</td>\n",
              "      <td>NaN</td>\n",
              "      <td>NaN</td>\n",
              "      <td>NaN</td>\n",
              "      <td>NaN</td>\n",
              "      <td>NaN</td>\n",
              "      <td>NaN</td>\n",
              "      <td>NaN</td>\n",
              "      <td>NaN</td>\n",
              "      <td>NaN</td>\n",
              "      <td>NaN</td>\n",
              "      <td>NaN</td>\n",
              "      <td>NaN</td>\n",
              "      <td>NaN</td>\n",
              "      <td>NaN</td>\n",
              "      <td>NaN</td>\n",
              "      <td>NaN</td>\n",
              "      <td>NaN</td>\n",
              "      <td>NaN</td>\n",
              "      <td>NaN</td>\n",
              "      <td>NaN</td>\n",
              "      <td>NaN</td>\n",
              "      <td>NaN</td>\n",
              "      <td>NaN</td>\n",
              "      <td>...</td>\n",
              "      <td>NaN</td>\n",
              "      <td>NaN</td>\n",
              "      <td>0.333333</td>\n",
              "      <td>-0.230769</td>\n",
              "      <td>-0.132075</td>\n",
              "      <td>-0.593220</td>\n",
              "      <td>0.535714</td>\n",
              "      <td>0.578947</td>\n",
              "      <td>0.333333</td>\n",
              "      <td>-0.230769</td>\n",
              "      <td>-0.132075</td>\n",
              "      <td>-0.586207</td>\n",
              "      <td>0.535714</td>\n",
              "      <td>0.578947</td>\n",
              "      <td>0.443299</td>\n",
              "      <td>0.0000</td>\n",
              "      <td>-0.025641</td>\n",
              "      <td>-0.500000</td>\n",
              "      <td>0.714286</td>\n",
              "      <td>0.838384</td>\n",
              "      <td>-0.076923</td>\n",
              "      <td>-0.459459</td>\n",
              "      <td>-0.313433</td>\n",
              "      <td>-0.636364</td>\n",
              "      <td>0.246377</td>\n",
              "      <td>0.578947</td>\n",
              "      <td>-1.00000</td>\n",
              "      <td>-1.000000</td>\n",
              "      <td>-1.000000</td>\n",
              "      <td>-1.000000</td>\n",
              "      <td>-1.000000</td>\n",
              "      <td>-1.000000</td>\n",
              "      <td>-1.000000</td>\n",
              "      <td>-1.000000</td>\n",
              "      <td>-1.000000</td>\n",
              "      <td>-1.000000</td>\n",
              "      <td>-1.000000</td>\n",
              "      <td>-1.000000</td>\n",
              "      <td>2-4</td>\n",
              "      <td>0</td>\n",
              "    </tr>\n",
              "    <tr>\n",
              "      <th>2</th>\n",
              "      <td>0</td>\n",
              "      <td>1</td>\n",
              "      <td>60th</td>\n",
              "      <td>0</td>\n",
              "      <td>0.0</td>\n",
              "      <td>0.0</td>\n",
              "      <td>0.0</td>\n",
              "      <td>0.0</td>\n",
              "      <td>1.0</td>\n",
              "      <td>1.0</td>\n",
              "      <td>0.0</td>\n",
              "      <td>0.0</td>\n",
              "      <td>1.0</td>\n",
              "      <td>0.605263</td>\n",
              "      <td>0.605263</td>\n",
              "      <td>0.605263</td>\n",
              "      <td>0.605263</td>\n",
              "      <td>-1.0</td>\n",
              "      <td>-1.000000</td>\n",
              "      <td>-1.000000</td>\n",
              "      <td>-1.000000</td>\n",
              "      <td>-1.000000</td>\n",
              "      <td>-1.0</td>\n",
              "      <td>-1.000000</td>\n",
              "      <td>-1.000000</td>\n",
              "      <td>-1.000000</td>\n",
              "      <td>-1.000000</td>\n",
              "      <td>-1.0</td>\n",
              "      <td>-0.317073</td>\n",
              "      <td>-0.317073</td>\n",
              "      <td>-0.317073</td>\n",
              "      <td>-0.317073</td>\n",
              "      <td>-1.0</td>\n",
              "      <td>-0.317073</td>\n",
              "      <td>-0.317073</td>\n",
              "      <td>-0.317073</td>\n",
              "      <td>-0.317073</td>\n",
              "      <td>-1.0</td>\n",
              "      <td>-0.938950</td>\n",
              "      <td>-0.938950</td>\n",
              "      <td>...</td>\n",
              "      <td>-0.994912</td>\n",
              "      <td>-1.0</td>\n",
              "      <td>NaN</td>\n",
              "      <td>NaN</td>\n",
              "      <td>NaN</td>\n",
              "      <td>NaN</td>\n",
              "      <td>NaN</td>\n",
              "      <td>NaN</td>\n",
              "      <td>NaN</td>\n",
              "      <td>NaN</td>\n",
              "      <td>NaN</td>\n",
              "      <td>NaN</td>\n",
              "      <td>NaN</td>\n",
              "      <td>NaN</td>\n",
              "      <td>NaN</td>\n",
              "      <td>NaN</td>\n",
              "      <td>NaN</td>\n",
              "      <td>NaN</td>\n",
              "      <td>NaN</td>\n",
              "      <td>NaN</td>\n",
              "      <td>NaN</td>\n",
              "      <td>NaN</td>\n",
              "      <td>NaN</td>\n",
              "      <td>NaN</td>\n",
              "      <td>NaN</td>\n",
              "      <td>NaN</td>\n",
              "      <td>NaN</td>\n",
              "      <td>NaN</td>\n",
              "      <td>NaN</td>\n",
              "      <td>NaN</td>\n",
              "      <td>NaN</td>\n",
              "      <td>NaN</td>\n",
              "      <td>NaN</td>\n",
              "      <td>NaN</td>\n",
              "      <td>NaN</td>\n",
              "      <td>NaN</td>\n",
              "      <td>NaN</td>\n",
              "      <td>NaN</td>\n",
              "      <td>4-6</td>\n",
              "      <td>0</td>\n",
              "    </tr>\n",
              "    <tr>\n",
              "      <th>3</th>\n",
              "      <td>0</td>\n",
              "      <td>1</td>\n",
              "      <td>60th</td>\n",
              "      <td>0</td>\n",
              "      <td>0.0</td>\n",
              "      <td>0.0</td>\n",
              "      <td>0.0</td>\n",
              "      <td>0.0</td>\n",
              "      <td>1.0</td>\n",
              "      <td>1.0</td>\n",
              "      <td>0.0</td>\n",
              "      <td>0.0</td>\n",
              "      <td>1.0</td>\n",
              "      <td>NaN</td>\n",
              "      <td>NaN</td>\n",
              "      <td>NaN</td>\n",
              "      <td>NaN</td>\n",
              "      <td>NaN</td>\n",
              "      <td>NaN</td>\n",
              "      <td>NaN</td>\n",
              "      <td>NaN</td>\n",
              "      <td>NaN</td>\n",
              "      <td>NaN</td>\n",
              "      <td>NaN</td>\n",
              "      <td>NaN</td>\n",
              "      <td>NaN</td>\n",
              "      <td>NaN</td>\n",
              "      <td>NaN</td>\n",
              "      <td>NaN</td>\n",
              "      <td>NaN</td>\n",
              "      <td>NaN</td>\n",
              "      <td>NaN</td>\n",
              "      <td>NaN</td>\n",
              "      <td>NaN</td>\n",
              "      <td>NaN</td>\n",
              "      <td>NaN</td>\n",
              "      <td>NaN</td>\n",
              "      <td>NaN</td>\n",
              "      <td>NaN</td>\n",
              "      <td>NaN</td>\n",
              "      <td>...</td>\n",
              "      <td>NaN</td>\n",
              "      <td>NaN</td>\n",
              "      <td>NaN</td>\n",
              "      <td>NaN</td>\n",
              "      <td>NaN</td>\n",
              "      <td>NaN</td>\n",
              "      <td>-0.107143</td>\n",
              "      <td>0.736842</td>\n",
              "      <td>NaN</td>\n",
              "      <td>NaN</td>\n",
              "      <td>NaN</td>\n",
              "      <td>NaN</td>\n",
              "      <td>-0.107143</td>\n",
              "      <td>0.736842</td>\n",
              "      <td>NaN</td>\n",
              "      <td>NaN</td>\n",
              "      <td>NaN</td>\n",
              "      <td>NaN</td>\n",
              "      <td>0.318681</td>\n",
              "      <td>0.898990</td>\n",
              "      <td>NaN</td>\n",
              "      <td>NaN</td>\n",
              "      <td>NaN</td>\n",
              "      <td>NaN</td>\n",
              "      <td>-0.275362</td>\n",
              "      <td>0.736842</td>\n",
              "      <td>NaN</td>\n",
              "      <td>NaN</td>\n",
              "      <td>NaN</td>\n",
              "      <td>NaN</td>\n",
              "      <td>-1.000000</td>\n",
              "      <td>-1.000000</td>\n",
              "      <td>NaN</td>\n",
              "      <td>NaN</td>\n",
              "      <td>NaN</td>\n",
              "      <td>NaN</td>\n",
              "      <td>-1.000000</td>\n",
              "      <td>-1.000000</td>\n",
              "      <td>6-12</td>\n",
              "      <td>0</td>\n",
              "    </tr>\n",
              "    <tr>\n",
              "      <th>4</th>\n",
              "      <td>0</td>\n",
              "      <td>1</td>\n",
              "      <td>60th</td>\n",
              "      <td>0</td>\n",
              "      <td>0.0</td>\n",
              "      <td>0.0</td>\n",
              "      <td>0.0</td>\n",
              "      <td>0.0</td>\n",
              "      <td>1.0</td>\n",
              "      <td>1.0</td>\n",
              "      <td>0.0</td>\n",
              "      <td>0.0</td>\n",
              "      <td>1.0</td>\n",
              "      <td>0.000000</td>\n",
              "      <td>0.000000</td>\n",
              "      <td>0.000000</td>\n",
              "      <td>0.000000</td>\n",
              "      <td>-1.0</td>\n",
              "      <td>-0.871658</td>\n",
              "      <td>-0.871658</td>\n",
              "      <td>-0.871658</td>\n",
              "      <td>-0.871658</td>\n",
              "      <td>-1.0</td>\n",
              "      <td>-0.863874</td>\n",
              "      <td>-0.863874</td>\n",
              "      <td>-0.863874</td>\n",
              "      <td>-0.863874</td>\n",
              "      <td>-1.0</td>\n",
              "      <td>-0.317073</td>\n",
              "      <td>-0.317073</td>\n",
              "      <td>-0.317073</td>\n",
              "      <td>-0.317073</td>\n",
              "      <td>-1.0</td>\n",
              "      <td>-0.414634</td>\n",
              "      <td>-0.414634</td>\n",
              "      <td>-0.414634</td>\n",
              "      <td>-0.414634</td>\n",
              "      <td>-1.0</td>\n",
              "      <td>-0.979069</td>\n",
              "      <td>-0.979069</td>\n",
              "      <td>...</td>\n",
              "      <td>-0.996762</td>\n",
              "      <td>-1.0</td>\n",
              "      <td>-0.243021</td>\n",
              "      <td>-0.338537</td>\n",
              "      <td>-0.213031</td>\n",
              "      <td>-0.317859</td>\n",
              "      <td>0.033779</td>\n",
              "      <td>0.665932</td>\n",
              "      <td>-0.283951</td>\n",
              "      <td>-0.376923</td>\n",
              "      <td>-0.188679</td>\n",
              "      <td>-0.379310</td>\n",
              "      <td>0.035714</td>\n",
              "      <td>0.631579</td>\n",
              "      <td>-0.340206</td>\n",
              "      <td>-0.4875</td>\n",
              "      <td>-0.572650</td>\n",
              "      <td>-0.857143</td>\n",
              "      <td>0.098901</td>\n",
              "      <td>0.797980</td>\n",
              "      <td>-0.076923</td>\n",
              "      <td>0.286486</td>\n",
              "      <td>0.298507</td>\n",
              "      <td>0.272727</td>\n",
              "      <td>0.362319</td>\n",
              "      <td>0.947368</td>\n",
              "      <td>-0.33913</td>\n",
              "      <td>0.325153</td>\n",
              "      <td>0.114504</td>\n",
              "      <td>0.176471</td>\n",
              "      <td>-0.238095</td>\n",
              "      <td>-0.818182</td>\n",
              "      <td>-0.389967</td>\n",
              "      <td>0.407558</td>\n",
              "      <td>-0.230462</td>\n",
              "      <td>0.096774</td>\n",
              "      <td>-0.242282</td>\n",
              "      <td>-0.814433</td>\n",
              "      <td>ABOVE_12</td>\n",
              "      <td>1</td>\n",
              "    </tr>\n",
              "  </tbody>\n",
              "</table>\n",
              "<p>5 rows × 231 columns</p>\n",
              "</div>"
            ],
            "text/plain": [
              "   PATIENT_VISIT_IDENTIFIER  AGE_ABOVE65  ...    WINDOW  ICU\n",
              "0                         0            1  ...       0-2    0\n",
              "1                         0            1  ...       2-4    0\n",
              "2                         0            1  ...       4-6    0\n",
              "3                         0            1  ...      6-12    0\n",
              "4                         0            1  ...  ABOVE_12    1\n",
              "\n",
              "[5 rows x 231 columns]"
            ]
          },
          "metadata": {
            "tags": []
          },
          "execution_count": 3
        }
      ]
    },
    {
      "cell_type": "code",
      "metadata": {
        "id": "PbtrvAJ0Y507",
        "colab_type": "code",
        "colab": {
          "base_uri": "https://localhost:8080/",
          "height": 34
        },
        "outputId": "5701b163-897b-481a-f6cd-f79c7ea15883"
      },
      "source": [
        "# shape\n",
        "print('Rows: {} | Columns: {}'.format(df.shape[0], df.shape[1]))"
      ],
      "execution_count": 4,
      "outputs": [
        {
          "output_type": "stream",
          "text": [
            "Rows: 1925 | Columns: 231\n"
          ],
          "name": "stdout"
        }
      ]
    },
    {
      "cell_type": "markdown",
      "metadata": {
        "id": "rOUzzjf-cHUR",
        "colab_type": "text"
      },
      "source": [
        "As we have already seen, we have many features making the set with a high dimension, something that we must deal with in the feature engineering stage.\n",
        "\n",
        "<br>"
      ]
    },
    {
      "cell_type": "code",
      "metadata": {
        "id": "aeQUg5jiaYtQ",
        "colab_type": "code",
        "colab": {
          "base_uri": "https://localhost:8080/",
          "height": 221
        },
        "outputId": "4bdad2f8-2275-463c-cbb5-221e832041d0"
      },
      "source": [
        "# data types \n",
        "df.dtypes"
      ],
      "execution_count": 5,
      "outputs": [
        {
          "output_type": "execute_result",
          "data": {
            "text/plain": [
              "PATIENT_VISIT_IDENTIFIER        int64\n",
              "AGE_ABOVE65                     int64\n",
              "AGE_PERCENTIL                  object\n",
              "GENDER                          int64\n",
              "DISEASE GROUPING 1            float64\n",
              "                               ...   \n",
              "RESPIRATORY_RATE_DIFF_REL     float64\n",
              "TEMPERATURE_DIFF_REL          float64\n",
              "OXYGEN_SATURATION_DIFF_REL    float64\n",
              "WINDOW                         object\n",
              "ICU                             int64\n",
              "Length: 231, dtype: object"
            ]
          },
          "metadata": {
            "tags": []
          },
          "execution_count": 5
        }
      ]
    },
    {
      "cell_type": "code",
      "metadata": {
        "id": "RLG8QxnVcWnc",
        "colab_type": "code",
        "colab": {
          "base_uri": "https://localhost:8080/",
          "height": 34
        },
        "outputId": "e4d52523-9103-4950-e740-5493c7bf6184"
      },
      "source": [
        "#  categorical features\n",
        "cat_cols = df.select_dtypes(include=['object']).columns\n",
        "num_cols = df.select_dtypes(exclude=['object']).columns\n",
        "print(df[cat_cols].columns)"
      ],
      "execution_count": 6,
      "outputs": [
        {
          "output_type": "stream",
          "text": [
            "Index(['AGE_PERCENTIL', 'WINDOW'], dtype='object')\n"
          ],
          "name": "stdout"
        }
      ]
    },
    {
      "cell_type": "markdown",
      "metadata": {
        "id": "3VNoBs-XcsnK",
        "colab_type": "text"
      },
      "source": [
        "The dataset description contained the information that there are two categorical features (removing the label) in the set:\n",
        "\n",
        "* 'AGE_PERCENTIL'\n",
        "* 'WINDOW'\n",
        "\n",
        "<br>\n"
      ]
    },
    {
      "cell_type": "code",
      "metadata": {
        "id": "ta3WbOfAdLqW",
        "colab_type": "code",
        "colab": {
          "base_uri": "https://localhost:8080/",
          "height": 509
        },
        "outputId": "4a36cef1-389c-4df6-c007-afe91dbe9785"
      },
      "source": [
        "# Label ICU \n",
        "plt.figure(figsize=(10,6))\n",
        "plt.title('ICU Class count', fontsize=14)\n",
        "sns.countplot(df['ICU'], palette='GnBu')\n",
        "plt.tight_layout()\n",
        "\n",
        "# count class \n",
        "\n",
        "class_1 = len(df[df['ICU']==1])\n",
        "class_0 = len(df[df['ICU']==0])\n",
        "\n",
        "# show \n",
        "print('\\n')\n",
        "print('Outside the ICU: {}'.format(class_0))\n",
        "print('Inside the ICU: {}'.format(class_1))"
      ],
      "execution_count": 7,
      "outputs": [
        {
          "output_type": "stream",
          "text": [
            "\n",
            "\n",
            "Outside the ICU: 1410\n",
            "Inside the ICU: 515\n"
          ],
          "name": "stdout"
        },
        {
          "output_type": "display_data",
          "data": {
            "image/png": "[encoded data removed]",
            "text/plain": [
              "<Figure size 720x432 with 1 Axes>"
            ]
          },
          "metadata": {
            "tags": [],
            "needs_background": "light"
          }
        }
      ]
    },
    {
      "cell_type": "markdown",
      "metadata": {
        "id": "4_b1v6I8gHhb",
        "colab_type": "text"
      },
      "source": [
        "There are 1925 records in the data set, among the numbers <b> 1410 </b> are outside the ICU and <b> 515 </b> are in ICU beds\n",
        "There is a certain imbalance of the classes, which we can keep an eye on in the modeling later\n",
        "\n",
        "<br>"
      ]
    },
    {
      "cell_type": "code",
      "metadata": {
        "id": "z7CKMmLWg9Gi",
        "colab_type": "code",
        "colab": {}
      },
      "source": [
        "# category aggregation function\n",
        "\n",
        "def aggregate(df, col, arg, title):\n",
        "  \n",
        "  # category values \n",
        "  range_1 = len(df[df[col]==arg])\n",
        "  show = print('{}: {}'.format(title,range_1))\n",
        "  return show"
      ],
      "execution_count": 8,
      "outputs": []
    },
    {
      "cell_type": "code",
      "metadata": {
        "id": "SDutwuprey-Y",
        "colab_type": "code",
        "colab": {
          "base_uri": "https://localhost:8080/",
          "height": 734
        },
        "outputId": "8d6add0c-3125-4b6d-8ca7-56417be7996b"
      },
      "source": [
        "# age distribution\n",
        "plt.figure(figsize=(12,7))\n",
        "plt.title('Age Distribution', fontsize=14)\n",
        "sns.countplot(df['AGE_PERCENTIL'], palette='Purples')\n",
        "plt.tight_layout()\n",
        "\n",
        "\n",
        "# Summary ages \n",
        "print('----- AGE COUNT -----')\n",
        "print('\\n')\n",
        "aggregate(df, 'AGE_PERCENTIL', '10th', 'AGE 10th')\n",
        "aggregate(df, 'AGE_PERCENTIL', '20th', 'AGE 20th')\n",
        "aggregate(df, 'AGE_PERCENTIL', '30th', 'AGE 30th')\n",
        "aggregate(df, 'AGE_PERCENTIL', '40th', 'AGE 40th')\n",
        "aggregate(df, 'AGE_PERCENTIL', '50th', 'AGE 50th')\n",
        "aggregate(df, 'AGE_PERCENTIL', '60th', 'AGE 60th')\n",
        "aggregate(df, 'AGE_PERCENTIL', '70th', 'AGE 70th')\n",
        "aggregate(df, 'AGE_PERCENTIL', '80th', 'AGE 80th')\n",
        "aggregate(df, 'AGE_PERCENTIL', '90th', 'AGE 90th')\n",
        "aggregate(df, 'AGE_PERCENTIL', 'Above 90th', 'AGE above 90th')"
      ],
      "execution_count": 9,
      "outputs": [
        {
          "output_type": "stream",
          "text": [
            "----- AGE COUNT -----\n",
            "\n",
            "\n",
            "AGE 10th: 205\n",
            "AGE 20th: 215\n",
            "AGE 30th: 205\n",
            "AGE 40th: 200\n",
            "AGE 50th: 190\n",
            "AGE 60th: 185\n",
            "AGE 70th: 195\n",
            "AGE 80th: 190\n",
            "AGE 90th: 155\n",
            "AGE above 90th: 185\n"
          ],
          "name": "stdout"
        },
        {
          "output_type": "display_data",
          "data": {
            "image/png": "[encoded data removed]",
            "text/plain": [
              "<Figure size 864x504 with 1 Axes>"
            ]
          },
          "metadata": {
            "tags": [],
            "needs_background": "light"
          }
        }
      ]
    },
    {
      "cell_type": "markdown",
      "metadata": {
        "id": "DzcvG6vnnF98",
        "colab_type": "text"
      },
      "source": [
        "Ages are formatted on a percentile scale, it is a variable that follows a uniform trend. "
      ]
    },
    {
      "cell_type": "code",
      "metadata": {
        "id": "dDipVuWkp6iF",
        "colab_type": "code",
        "colab": {
          "base_uri": "https://localhost:8080/",
          "height": 441
        },
        "outputId": "ab24f277-4da1-4557-c5b5-bc94adc9e80e"
      },
      "source": [
        "# Patient event window \n",
        "plt.figure(figsize=(10,6))\n",
        "plt.title('Patient event window | ICU ', fontsize=14)\n",
        "sns.countplot(df['WINDOW'], hue='ICU', data=df, palette='GnBu')\n",
        "plt.tight_layout()"
      ],
      "execution_count": 10,
      "outputs": [
        {
          "output_type": "display_data",
          "data": {
            "image/png": "[encoded data removed]",
            "text/plain": [
              "<Figure size 720x432 with 1 Axes>"
            ]
          },
          "metadata": {
            "tags": [],
            "needs_background": "light"
          }
        }
      ]
    },
    {
      "cell_type": "markdown",
      "metadata": {
        "id": "tHNjTH0SseiO",
        "colab_type": "text"
      },
      "source": [
        "Looking at the patient's windows (observation) over time in hours, it follows something that we predicted that over time, if the patient already has a strong suspicion on his admission to the hospital, he can be inserted into the ICU on his arrival, or maybe in 0-2 hours, etc., the sooner we can predict whether the patient will need a bed or not, the better."
      ]
    },
    {
      "cell_type": "code",
      "metadata": {
        "id": "jh30Pqpzrp2i",
        "colab_type": "code",
        "colab": {
          "base_uri": "https://localhost:8080/",
          "height": 763
        },
        "outputId": "19a16720-1a6a-4bea-ea4b-7bf9a5772496"
      },
      "source": [
        "# Does age influence taking the patient to an ICU bed?\n",
        "plt.figure(figsize=(12,10))\n",
        "plt.subplot(2,1,1)\n",
        "plt.title('Does age influence taking the patient to an ICU bed? ', fontsize=14)\n",
        "sns.countplot(df['AGE_PERCENTIL'], hue='ICU', data=df, palette='GnBu')\n",
        "\n",
        "print('\\n')\n",
        "\n",
        "# Ages with Disease Grouping 1\n",
        "plt.subplot(2,1,2)\n",
        "plt.title('Ages with Disease grouping ', fontsize=14)\n",
        "sns.barplot(df['AGE_PERCENTIL'], y='DISEASE GROUPING 1', hue='ICU', data=df, palette='GnBu')\n",
        "plt.tight_layout()"
      ],
      "execution_count": 11,
      "outputs": [
        {
          "output_type": "stream",
          "text": [
            "\n",
            "\n"
          ],
          "name": "stdout"
        },
        {
          "output_type": "display_data",
          "data": {
            "image/png": "[encoded data removed]",
            "text/plain": [
              "<Figure size 864x720 with 2 Axes>"
            ]
          },
          "metadata": {
            "tags": [],
            "needs_background": "light"
          }
        }
      ]
    },
    {
      "cell_type": "markdown",
      "metadata": {
        "id": "6rOqCNQWvtEe",
        "colab_type": "text"
      },
      "source": [
        "Crossing the <b> DISEASE GROUPING 1 </b> feature with age, traits are also identified, that patients over 90 years old with this first group of diseases, have a high probability of being referred to ICU\n",
        "\n",
        "<br>"
      ]
    },
    {
      "cell_type": "markdown",
      "metadata": {
        "id": "4vo04RwTWbU4",
        "colab_type": "text"
      },
      "source": [
        "<br>\n",
        "<hr>\n",
        "<br>\n",
        "\n",
        "\n",
        "### Conclusion Exploratory analysis \n",
        "\n",
        "<b> An analysis carried out, including a lot of knowledge from doctors and health professionals, already had on the effects of covid-19 in patients. </b>\n",
        "\n",
        "* Patients over 60 years old have a high probability of reaching the ICU after 12h\n",
        "\n",
        "* The age points a lot that we must observe much more the patients of high age, that it contains results in the examinations that proved that to some high discrepancy in the examinations.\n",
        "\n",
        "\n",
        "<b> Warning: As it is a dataset that contains many anonymous features, in a way we do not infer more conclusions due to the health knowledge factor, we made assumptions based on what we classify as the simplest to be analyzed, an analysis done alongside a doctor or professional of health would be of greater gain and strength. </b> \n",
        "\n",
        "\n",
        "\n",
        "<hr>\n",
        "<br>"
      ]
    },
    {
      "cell_type": "markdown",
      "metadata": {
        "id": "31E2ea_6k6jc",
        "colab_type": "text"
      },
      "source": [
        "<br>\n",
        "<hr>\n",
        "\n",
        "\n",
        "### 3. Feature engineering \n",
        "\n",
        "We will use a simple approach in this step of transforming the features, to later create a general baseline of a single model.\n",
        "\n",
        "* Missing Values \n",
        "* Correct data type\n",
        "\n",
        "<br>\n",
        "<hr>\n",
        "<br>"
      ]
    },
    {
      "cell_type": "code",
      "metadata": {
        "id": "w4CNxUXrkzzz",
        "colab_type": "code",
        "colab": {
          "base_uri": "https://localhost:8080/",
          "height": 359
        },
        "outputId": "3ff678a3-ec75-4b7b-c0ce-9b148d88d774"
      },
      "source": [
        "# view mising values \n",
        "\n",
        "def missing_values(data):\n",
        "    \n",
        "    # Null total \n",
        "    missing_values = data.isnull().sum()\n",
        "    \n",
        "    # Order nulls \n",
        "    total = missing_values.sort_values(ascending=True)\n",
        "    \n",
        "    # Percentage  \n",
        "    percent = (missing_values / len(data.index)*100).round(2).sort_values(ascending=True)\n",
        "\n",
        "    table_missing = pd.concat([total, percent], axis=1, keys=['Números de NA', 'Porcentagem de NA'])\n",
        "  \n",
        "    return table_missing.tail(10)\n",
        "\n",
        "\n",
        "missing_values(df)"
      ],
      "execution_count": 12,
      "outputs": [
        {
          "output_type": "execute_result",
          "data": {
            "text/html": [
              "<div>\n",
              "<style scoped>\n",
              "    .dataframe tbody tr th:only-of-type {\n",
              "        vertical-align: middle;\n",
              "    }\n",
              "\n",
              "    .dataframe tbody tr th {\n",
              "        vertical-align: top;\n",
              "    }\n",
              "\n",
              "    .dataframe thead th {\n",
              "        text-align: right;\n",
              "    }\n",
              "</style>\n",
              "<table border=\"1\" class=\"dataframe\">\n",
              "  <thead>\n",
              "    <tr style=\"text-align: right;\">\n",
              "      <th></th>\n",
              "      <th>Números de NA</th>\n",
              "      <th>Porcentagem de NA</th>\n",
              "    </tr>\n",
              "  </thead>\n",
              "  <tbody>\n",
              "    <tr>\n",
              "      <th>INR_MEDIAN</th>\n",
              "      <td>1104</td>\n",
              "      <td>57.35</td>\n",
              "    </tr>\n",
              "    <tr>\n",
              "      <th>INR_MEAN</th>\n",
              "      <td>1104</td>\n",
              "      <td>57.35</td>\n",
              "    </tr>\n",
              "    <tr>\n",
              "      <th>INR_MIN</th>\n",
              "      <td>1104</td>\n",
              "      <td>57.35</td>\n",
              "    </tr>\n",
              "    <tr>\n",
              "      <th>INR_MAX</th>\n",
              "      <td>1104</td>\n",
              "      <td>57.35</td>\n",
              "    </tr>\n",
              "    <tr>\n",
              "      <th>INR_DIFF</th>\n",
              "      <td>1104</td>\n",
              "      <td>57.35</td>\n",
              "    </tr>\n",
              "    <tr>\n",
              "      <th>LACTATE_MEDIAN</th>\n",
              "      <td>1104</td>\n",
              "      <td>57.35</td>\n",
              "    </tr>\n",
              "    <tr>\n",
              "      <th>LACTATE_MEAN</th>\n",
              "      <td>1104</td>\n",
              "      <td>57.35</td>\n",
              "    </tr>\n",
              "    <tr>\n",
              "      <th>LACTATE_MIN</th>\n",
              "      <td>1104</td>\n",
              "      <td>57.35</td>\n",
              "    </tr>\n",
              "    <tr>\n",
              "      <th>HEMOGLOBIN_MEAN</th>\n",
              "      <td>1104</td>\n",
              "      <td>57.35</td>\n",
              "    </tr>\n",
              "    <tr>\n",
              "      <th>P02_VENOUS_MIN</th>\n",
              "      <td>1104</td>\n",
              "      <td>57.35</td>\n",
              "    </tr>\n",
              "  </tbody>\n",
              "</table>\n",
              "</div>"
            ],
            "text/plain": [
              "                 Números de NA  Porcentagem de NA\n",
              "INR_MEDIAN                1104              57.35\n",
              "INR_MEAN                  1104              57.35\n",
              "INR_MIN                   1104              57.35\n",
              "INR_MAX                   1104              57.35\n",
              "INR_DIFF                  1104              57.35\n",
              "LACTATE_MEDIAN            1104              57.35\n",
              "LACTATE_MEAN              1104              57.35\n",
              "LACTATE_MIN               1104              57.35\n",
              "HEMOGLOBIN_MEAN           1104              57.35\n",
              "P02_VENOUS_MIN            1104              57.35"
            ]
          },
          "metadata": {
            "tags": []
          },
          "execution_count": 12
        }
      ]
    },
    {
      "cell_type": "code",
      "metadata": {
        "id": "UZLZO7JfmsBM",
        "colab_type": "code",
        "colab": {}
      },
      "source": [
        "# input missing values\n",
        "\n",
        "imp_numeric = SimpleImputer(missing_values=np.nan, strategy='mean')\n",
        "num_cols = df.select_dtypes(exclude=['object']).columns \n",
        "\n",
        "\n",
        "for col in num_cols:\n",
        "  if df[col].isnull().sum() > 0:\n",
        "    df[col] = imp_numeric.fit_transform(df[[col]])\n",
        "  else:\n",
        "    pass"
      ],
      "execution_count": 13,
      "outputs": []
    },
    {
      "cell_type": "code",
      "metadata": {
        "id": "Ljh1eE-woh_T",
        "colab_type": "code",
        "colab": {
          "base_uri": "https://localhost:8080/",
          "height": 34
        },
        "outputId": "b7e30abe-0d15-4f50-b812-1f3e97ecb3fd"
      },
      "source": [
        "# handling categorical AGE_PERCENTIL \n",
        "\n",
        "def cat_percentil(percentil):\n",
        "    if percentil == \"Above 90th\":\n",
        "        return(100)\n",
        "    else:\n",
        "        return(int(\"\".join(c for c in str(percentil) if c.isdigit())))\n",
        "\n",
        "\n",
        "# checking AGE_PERCENTIL \n",
        "df['AGE_PERCENTIL'] = df['AGE_PERCENTIL'].apply(lambda x: cat_percentil(x))\n",
        "df['AGE_PERCENTIL'].isnull().sum()"
      ],
      "execution_count": 14,
      "outputs": [
        {
          "output_type": "execute_result",
          "data": {
            "text/plain": [
              "0"
            ]
          },
          "metadata": {
            "tags": []
          },
          "execution_count": 14
        }
      ]
    },
    {
      "cell_type": "code",
      "metadata": {
        "id": "t5FZKP1NpNut",
        "colab_type": "code",
        "colab": {
          "base_uri": "https://localhost:8080/",
          "height": 34
        },
        "outputId": "48acc5b3-88ec-4994-9095-8a8fad19cdcd"
      },
      "source": [
        "# handling categorical WINDOW \n",
        "\n",
        "def cat_window(window):\n",
        "    if window == \"ABOVE_12\":\n",
        "        return(13)\n",
        "    else:\n",
        "        return(int((window.split(\"-\")[1])))\n",
        "\n",
        "\n",
        "df['WINDOW'] = df['WINDOW'].apply(lambda x: cat_window(x))\n",
        "df['WINDOW'].isnull().sum()"
      ],
      "execution_count": 15,
      "outputs": [
        {
          "output_type": "execute_result",
          "data": {
            "text/plain": [
              "0"
            ]
          },
          "metadata": {
            "tags": []
          },
          "execution_count": 15
        }
      ]
    },
    {
      "cell_type": "code",
      "metadata": {
        "id": "GdjOTJ-Xu7yP",
        "colab_type": "code",
        "colab": {}
      },
      "source": [
        "# remove ID \n",
        "df.drop('PATIENT_VISIT_IDENTIFIER', axis=1, inplace=True)"
      ],
      "execution_count": 16,
      "outputs": []
    },
    {
      "cell_type": "markdown",
      "metadata": {
        "id": "6-10jZgpq38V",
        "colab_type": "text"
      },
      "source": [
        "<br>\n",
        "<hr>\n",
        "<br>"
      ]
    },
    {
      "cell_type": "markdown",
      "metadata": {
        "id": "trgV60r7q-Ks",
        "colab_type": "text"
      },
      "source": [
        "### 4. Baseline \n",
        "\n",
        "\n",
        "We will develop a baseline, a model that will serve as a parameter in relation to the metrics, through it we will interpret how the later models will be performing compared to it.\n",
        "\n",
        "Let's apply a simple logistic regression, and see the performance of the model.\n",
        "\n",
        "<br>\n",
        "\n",
        "<b>WARNING:</b> As already seen in the exploratory analysis part, the metrics with the greatest focus will be <b> Precision, Recall and AUC </b> as we have already verified that there is a certain class imbalance, and we want the model to learn to identify a separation in patients who need ICU or not and those who in fact need immediate ICU referral.\n",
        "\n",
        "<br>\n",
        "<hr>\n",
        "<br>"
      ]
    },
    {
      "cell_type": "code",
      "metadata": {
        "id": "bnqwTOdf5MCk",
        "colab_type": "code",
        "colab": {
          "base_uri": "https://localhost:8080/",
          "height": 323
        },
        "outputId": "b0b97296-24ff-4061-8dcf-86a573e27cc7"
      },
      "source": [
        "# features | label\n",
        "X_baseline = df.drop('ICU', axis=1)\n",
        "y_baseline = df['ICU']\n",
        "\n",
        "\n",
        "# spliting \n",
        "X_train_baseline, X_test_baseline, y_train_baseline, y_test_baseline = train_test_split(X_baseline,y_baseline, test_size=0.30, random_state=42)\n",
        "\n",
        "\n",
        "# Standard \n",
        "scaler = StandardScaler()\n",
        "X_train_baseline = scaler.fit_transform(X_train_baseline)\n",
        "X_test_baseline = scaler.transform(X_test_baseline)\n",
        "\n",
        "\n",
        "# Logistic regression \n",
        "baseline = LogisticRegression(random_state=42)\n",
        "baseline.fit(X_train_baseline, y_train_baseline)\n",
        "y_pred_baseline = baseline.predict(X_test_baseline)\n",
        "y_proba_baseline = baseline.predict_proba(X_test_baseline)[:,1]\n",
        "print(classification_report(y_test_baseline, y_pred_baseline))\n",
        "\n",
        "\n",
        "# Summary \n",
        "print('\\n')\n",
        "print('--------- Baseline Summary ------------')\n",
        "print('\\n')\n",
        "print('Precision: {}'.format(round(precision_score(y_test_baseline, y_pred_baseline),2)))\n",
        "print('Recall: {}'.format(round(recall_score(y_test_baseline, y_pred_baseline),2)))\n",
        "print('AUC: {}'.format(round(roc_auc_score(y_test_baseline, y_proba_baseline),2)))\n",
        "print('Precision-Recall: {}'.format(round(average_precision_score(y_test_baseline, y_proba_baseline),2)))"
      ],
      "execution_count": 17,
      "outputs": [
        {
          "output_type": "stream",
          "text": [
            "              precision    recall  f1-score   support\n",
            "\n",
            "           0       0.84      0.96      0.90       413\n",
            "           1       0.84      0.56      0.67       165\n",
            "\n",
            "    accuracy                           0.84       578\n",
            "   macro avg       0.84      0.76      0.78       578\n",
            "weighted avg       0.84      0.84      0.83       578\n",
            "\n",
            "\n",
            "\n",
            "--------- Baseline Summary ------------\n",
            "\n",
            "\n",
            "Precision: 0.84\n",
            "Recall: 0.56\n",
            "AUC: 0.84\n",
            "Precision-Recall: 0.76\n"
          ],
          "name": "stdout"
        }
      ]
    },
    {
      "cell_type": "markdown",
      "metadata": {
        "id": "Nv_7CPgRtJAt",
        "colab_type": "text"
      },
      "source": [
        "<br>\n",
        "\n",
        "Our baseline was made with a very simple logistic regression model and presented the results above, starting from here we will guide our next models comparing the results with this baseline.\n",
        "\n",
        "\n",
        "\n",
        "<hr>\n",
        "<br>\n"
      ]
    },
    {
      "cell_type": "markdown",
      "metadata": {
        "id": "IIhbQ7qjwzYO",
        "colab_type": "text"
      },
      "source": [
        "<br>\n",
        "\n",
        "### 5. Feature Selection\n",
        "\n",
        "We will apply a Feature selection technique, which will help to reduce the number of features helping to contain the complexity of the model.\n",
        "\n",
        "\n",
        "The criteria for selecting the features used will be through the <b> ANOVA F-Value </b> is a way to see which features are most statistically relevant.\n",
        "\n",
        "\n",
        "\n",
        "\n",
        "<br>\n",
        "\n",
        "<b> What is ANOVA? </b>\n",
        "\n",
        "\n",
        "Analysis of Variance or ANOVA is a procedure used to compare the distribution of three or more groups in independent samples.\n",
        "\n",
        "\n",
        "its associated estimation procedure (such as \"variation\" between groups) used to analyze differences between group means in a sample.\n",
        "\n",
        "  ANOVA is based on the law of total variation, in which the variation observed in a specific variable is divided into components attributable to different sources of variation. In its simplest form, ANOVA provides a statistical test to determine whether two or more population averages are equal and, therefore, generalizes the t-test in addition to two means.\n",
        "\n",
        "\n",
        "more about ANOVA: \n",
        "* https://www.youtube.com/watch?v=CS_BKChyPuc\n",
        "* https://www.statisticshowto.com/probability-and-statistics/hypothesis-testing/anova/\n",
        "\n",
        "\n",
        "\n",
        "<br> \n",
        "\n",
        "In the Scikit-learn package it is available in the feature_selection module and is called <b> f_classif </b>\n",
        "\n",
        "<br>\n",
        "<hr>\n",
        "<br>"
      ]
    },
    {
      "cell_type": "code",
      "metadata": {
        "id": "CNXBqHUhlZ9l",
        "colab_type": "code",
        "colab": {}
      },
      "source": [
        "# feature selector function \n",
        "\n",
        "def feature_selection(k_value=2, name='RandomForest', model=XGBClassifier(random_state=42)):\n",
        "\n",
        "  # number features \n",
        "  k=k_value \n",
        "  f_class = functools.partial(f_classif)\n",
        "\n",
        "\n",
        "  # features | label \n",
        "  X = df.drop('ICU', axis=1)\n",
        "  y = df['ICU']\n",
        "\n",
        "\n",
        "  # spliting \n",
        "  X_train, X_test, y_train, y_test = train_test_split(X,y, test_size=0.30, random_state=42)\n",
        "\n",
        "\n",
        "  # filter  \n",
        "  seletor = SelectKBest(score_func=f_class, k=k)\n",
        "  X_train2 = seletor.fit_transform(X_train, y_train)\n",
        "  X_test2 = seletor.transform(X_test)\n",
        "\n",
        "\n",
        "  # Random Forest  \n",
        "  mdl = model\n",
        "  mdl.fit(X_train2, y_train)\n",
        "  y_pred = mdl.predict(X_test2)\n",
        "  y_proba = mdl.predict_proba(X_test2)[:,1]\n",
        "\n",
        "\n",
        "  # metrics \n",
        "  accuracy = round(accuracy_score(y_test, y_pred),2)\n",
        "  precision = round(precision_score(y_test, y_pred),2)\n",
        "  recall = round(recall_score(y_test, y_pred),2)\n",
        "  precision_recall = round(average_precision_score(y_test, y_proba),2)\n",
        "  auc = round(roc_auc_score(y_test, y_proba),2)\n",
        "  \n",
        "\n",
        "  print('K: {} | Acurácia: {}'.format(k, accuracy))\n",
        "  print('K: {} | Precision: {}'.format(k, precision))\n",
        "  print('K: {} | Recall: {}'.format(k, recall))\n",
        "  print('K: {} | Precision-Recall: {}'.format(k, precision_recall))\n",
        "  print('K: {} | AUC: {}'.format(k, auc))\n",
        "  print('\\n')\n",
        "  print('\\n')\n",
        "\n",
        "  mask = seletor.get_support()\n",
        "  best_features = X.columns[mask]\n",
        "  print('----- Best {} features {} --------'.format(k, name))\n",
        "  print('\\n')\n",
        "  print(best_features)"
      ],
      "execution_count": 18,
      "outputs": []
    },
    {
      "cell_type": "code",
      "metadata": {
        "id": "OEQb6jfHUPLI",
        "colab_type": "code",
        "colab": {
          "base_uri": "https://localhost:8080/",
          "height": 544
        },
        "outputId": "21a332db-9129-4f02-fc32-cff55ce27038"
      },
      "source": [
        "# Features for XGBoost \n",
        "feature_selection(k_value=50, name='XGBoost', model=XGBClassifier(random_state=42))"
      ],
      "execution_count": 19,
      "outputs": [
        {
          "output_type": "stream",
          "text": [
            "K: 50 | Acurácia: 0.85\n",
            "K: 50 | Precision: 0.81\n",
            "K: 50 | Recall: 0.63\n",
            "K: 50 | Precision-Recall: 0.82\n",
            "K: 50 | AUC: 0.89\n",
            "\n",
            "\n",
            "\n",
            "\n",
            "----- Best 50 features XGBoost --------\n",
            "\n",
            "\n",
            "Index(['AGE_ABOVE65', 'AGE_PERCENTIL', 'ALBUMIN_MIN', 'ALBUMIN_MAX',\n",
            "       'BE_ARTERIAL_MEDIAN', 'BE_ARTERIAL_MEAN', 'BE_ARTERIAL_MIN',\n",
            "       'BE_ARTERIAL_MAX', 'BE_VENOUS_MEDIAN', 'BE_VENOUS_MEAN',\n",
            "       'BE_VENOUS_MIN', 'BE_VENOUS_MAX', 'HEMATOCRITE_MEDIAN',\n",
            "       'HEMATOCRITE_MEAN', 'HEMATOCRITE_MIN', 'HEMATOCRITE_MAX',\n",
            "       'HEMOGLOBIN_MEDIAN', 'HEMOGLOBIN_MEAN', 'HEMOGLOBIN_MIN',\n",
            "       'HEMOGLOBIN_MAX', 'LACTATE_MEDIAN', 'LACTATE_MEAN', 'LACTATE_MIN',\n",
            "       'LACTATE_MAX', 'LEUKOCYTES_MEDIAN', 'LEUKOCYTES_MEAN', 'LEUKOCYTES_MIN',\n",
            "       'LEUKOCYTES_MAX', 'BLOODPRESSURE_DIASTOLIC_MEAN',\n",
            "       'RESPIRATORY_RATE_MEAN', 'BLOODPRESSURE_DIASTOLIC_MEDIAN',\n",
            "       'RESPIRATORY_RATE_MEDIAN', 'BLOODPRESSURE_DIASTOLIC_MIN',\n",
            "       'TEMPERATURE_MIN', 'BLOODPRESSURE_SISTOLIC_MAX', 'RESPIRATORY_RATE_MAX',\n",
            "       'OXYGEN_SATURATION_MAX', 'BLOODPRESSURE_DIASTOLIC_DIFF',\n",
            "       'BLOODPRESSURE_SISTOLIC_DIFF', 'HEART_RATE_DIFF',\n",
            "       'RESPIRATORY_RATE_DIFF', 'TEMPERATURE_DIFF', 'OXYGEN_SATURATION_DIFF',\n",
            "       'BLOODPRESSURE_DIASTOLIC_DIFF_REL', 'BLOODPRESSURE_SISTOLIC_DIFF_REL',\n",
            "       'HEART_RATE_DIFF_REL', 'RESPIRATORY_RATE_DIFF_REL',\n",
            "       'TEMPERATURE_DIFF_REL', 'OXYGEN_SATURATION_DIFF_REL', 'WINDOW'],\n",
            "      dtype='object')\n"
          ],
          "name": "stdout"
        }
      ]
    },
    {
      "cell_type": "markdown",
      "metadata": {
        "id": "O5plJPoa9mjY",
        "colab_type": "text"
      },
      "source": [
        "<br>\n",
        "<hr>\n",
        "<br>"
      ]
    },
    {
      "cell_type": "code",
      "metadata": {
        "id": "YBxGo5MMjS4P",
        "colab_type": "code",
        "colab": {
          "base_uri": "https://localhost:8080/",
          "height": 544
        },
        "outputId": "d8a11d3d-9ae5-49dd-e220-c37f11b396f5"
      },
      "source": [
        "# Features for LightGBM\n",
        "feature_selection(k_value=50, name='LightGBM', model=XGBClassifier(random_state=42))"
      ],
      "execution_count": 20,
      "outputs": [
        {
          "output_type": "stream",
          "text": [
            "K: 50 | Acurácia: 0.85\n",
            "K: 50 | Precision: 0.81\n",
            "K: 50 | Recall: 0.63\n",
            "K: 50 | Precision-Recall: 0.82\n",
            "K: 50 | AUC: 0.89\n",
            "\n",
            "\n",
            "\n",
            "\n",
            "----- Best 50 features LightGBM --------\n",
            "\n",
            "\n",
            "Index(['AGE_ABOVE65', 'AGE_PERCENTIL', 'ALBUMIN_MIN', 'ALBUMIN_MAX',\n",
            "       'BE_ARTERIAL_MEDIAN', 'BE_ARTERIAL_MEAN', 'BE_ARTERIAL_MIN',\n",
            "       'BE_ARTERIAL_MAX', 'BE_VENOUS_MEDIAN', 'BE_VENOUS_MEAN',\n",
            "       'BE_VENOUS_MIN', 'BE_VENOUS_MAX', 'HEMATOCRITE_MEDIAN',\n",
            "       'HEMATOCRITE_MEAN', 'HEMATOCRITE_MIN', 'HEMATOCRITE_MAX',\n",
            "       'HEMOGLOBIN_MEDIAN', 'HEMOGLOBIN_MEAN', 'HEMOGLOBIN_MIN',\n",
            "       'HEMOGLOBIN_MAX', 'LACTATE_MEDIAN', 'LACTATE_MEAN', 'LACTATE_MIN',\n",
            "       'LACTATE_MAX', 'LEUKOCYTES_MEDIAN', 'LEUKOCYTES_MEAN', 'LEUKOCYTES_MIN',\n",
            "       'LEUKOCYTES_MAX', 'BLOODPRESSURE_DIASTOLIC_MEAN',\n",
            "       'RESPIRATORY_RATE_MEAN', 'BLOODPRESSURE_DIASTOLIC_MEDIAN',\n",
            "       'RESPIRATORY_RATE_MEDIAN', 'BLOODPRESSURE_DIASTOLIC_MIN',\n",
            "       'TEMPERATURE_MIN', 'BLOODPRESSURE_SISTOLIC_MAX', 'RESPIRATORY_RATE_MAX',\n",
            "       'OXYGEN_SATURATION_MAX', 'BLOODPRESSURE_DIASTOLIC_DIFF',\n",
            "       'BLOODPRESSURE_SISTOLIC_DIFF', 'HEART_RATE_DIFF',\n",
            "       'RESPIRATORY_RATE_DIFF', 'TEMPERATURE_DIFF', 'OXYGEN_SATURATION_DIFF',\n",
            "       'BLOODPRESSURE_DIASTOLIC_DIFF_REL', 'BLOODPRESSURE_SISTOLIC_DIFF_REL',\n",
            "       'HEART_RATE_DIFF_REL', 'RESPIRATORY_RATE_DIFF_REL',\n",
            "       'TEMPERATURE_DIFF_REL', 'OXYGEN_SATURATION_DIFF_REL', 'WINDOW'],\n",
            "      dtype='object')\n"
          ],
          "name": "stdout"
        }
      ]
    },
    {
      "cell_type": "markdown",
      "metadata": {
        "id": "iOEZMFlKnKoq",
        "colab_type": "text"
      },
      "source": [
        "<br>\n",
        "<hr>\n",
        "<br>"
      ]
    },
    {
      "cell_type": "code",
      "metadata": {
        "id": "JrepLo8vhYoZ",
        "colab_type": "code",
        "colab": {
          "base_uri": "https://localhost:8080/",
          "height": 544
        },
        "outputId": "55f5b0f7-36f9-4c01-862b-963a281058d0"
      },
      "source": [
        "# Features for CatBoost\n",
        "feature_selection(k_value=50, name='CatBoost', model=CatBoostClassifier(iterations=100,\n",
        "                             loss_function='Logloss',\n",
        "                             task_type='CPU',\n",
        "                             random_state=42,\n",
        "                             verbose=False))"
      ],
      "execution_count": 21,
      "outputs": [
        {
          "output_type": "stream",
          "text": [
            "K: 50 | Acurácia: 0.87\n",
            "K: 50 | Precision: 0.86\n",
            "K: 50 | Recall: 0.64\n",
            "K: 50 | Precision-Recall: 0.82\n",
            "K: 50 | AUC: 0.89\n",
            "\n",
            "\n",
            "\n",
            "\n",
            "----- Best 50 features CatBoost --------\n",
            "\n",
            "\n",
            "Index(['AGE_ABOVE65', 'AGE_PERCENTIL', 'ALBUMIN_MIN', 'ALBUMIN_MAX',\n",
            "       'BE_ARTERIAL_MEDIAN', 'BE_ARTERIAL_MEAN', 'BE_ARTERIAL_MIN',\n",
            "       'BE_ARTERIAL_MAX', 'BE_VENOUS_MEDIAN', 'BE_VENOUS_MEAN',\n",
            "       'BE_VENOUS_MIN', 'BE_VENOUS_MAX', 'HEMATOCRITE_MEDIAN',\n",
            "       'HEMATOCRITE_MEAN', 'HEMATOCRITE_MIN', 'HEMATOCRITE_MAX',\n",
            "       'HEMOGLOBIN_MEDIAN', 'HEMOGLOBIN_MEAN', 'HEMOGLOBIN_MIN',\n",
            "       'HEMOGLOBIN_MAX', 'LACTATE_MEDIAN', 'LACTATE_MEAN', 'LACTATE_MIN',\n",
            "       'LACTATE_MAX', 'LEUKOCYTES_MEDIAN', 'LEUKOCYTES_MEAN', 'LEUKOCYTES_MIN',\n",
            "       'LEUKOCYTES_MAX', 'BLOODPRESSURE_DIASTOLIC_MEAN',\n",
            "       'RESPIRATORY_RATE_MEAN', 'BLOODPRESSURE_DIASTOLIC_MEDIAN',\n",
            "       'RESPIRATORY_RATE_MEDIAN', 'BLOODPRESSURE_DIASTOLIC_MIN',\n",
            "       'TEMPERATURE_MIN', 'BLOODPRESSURE_SISTOLIC_MAX', 'RESPIRATORY_RATE_MAX',\n",
            "       'OXYGEN_SATURATION_MAX', 'BLOODPRESSURE_DIASTOLIC_DIFF',\n",
            "       'BLOODPRESSURE_SISTOLIC_DIFF', 'HEART_RATE_DIFF',\n",
            "       'RESPIRATORY_RATE_DIFF', 'TEMPERATURE_DIFF', 'OXYGEN_SATURATION_DIFF',\n",
            "       'BLOODPRESSURE_DIASTOLIC_DIFF_REL', 'BLOODPRESSURE_SISTOLIC_DIFF_REL',\n",
            "       'HEART_RATE_DIFF_REL', 'RESPIRATORY_RATE_DIFF_REL',\n",
            "       'TEMPERATURE_DIFF_REL', 'OXYGEN_SATURATION_DIFF_REL', 'WINDOW'],\n",
            "      dtype='object')\n"
          ],
          "name": "stdout"
        }
      ]
    },
    {
      "cell_type": "markdown",
      "metadata": {
        "id": "W3EXuj4yfE6O",
        "colab_type": "text"
      },
      "source": [
        "<br>\n",
        "<hr>\n",
        "<br>\n",
        "<br>\n",
        "\n",
        "\n",
        "### 6. Tuning Hyperparameters \n",
        "\n",
        "\n",
        "The approach that we are going to apply for Optimizing hyperparameters is <b> Bayesian Optimization </b> a robust technique that has greater gains in converging the search for the best value of a hyperparameter.\n",
        "\n",
        "\n",
        "Framework that provides the technique is Hyperopt\n",
        "\n",
        "For a bigger study, about Bayesian Optimization and what is the mathematics behind:\n",
        "\n",
        "* https://towardsdatascience.com/an-introductory-example-of-bayesian-optimization-in-python-with-hyperopt-aae40fff4ff0\n",
        "\n",
        "* https://medium.com/spikelab/hyperparameter-optimization-using-bayesian-optimization-f1f393dcd36d\n",
        "\n",
        "\n",
        "\n",
        "\n",
        "\n",
        "<br>\n",
        "<hr>\n",
        "<br>"
      ]
    },
    {
      "cell_type": "markdown",
      "metadata": {
        "id": "l1Qbvu2roJN-",
        "colab_type": "text"
      },
      "source": [
        "#### Tuning XGBoost\n",
        "\n",
        "<br>"
      ]
    },
    {
      "cell_type": "code",
      "metadata": {
        "id": "nkBprWzzo2hf",
        "colab_type": "code",
        "colab": {}
      },
      "source": [
        "# TOP 50 features XGBoost \n",
        "xgb_columns = df[['AGE_ABOVE65', 'AGE_PERCENTIL', 'ALBUMIN_MIN', 'ALBUMIN_MAX',\n",
        "       'BE_ARTERIAL_MEDIAN', 'BE_ARTERIAL_MEAN', 'BE_ARTERIAL_MIN',\n",
        "       'BE_ARTERIAL_MAX', 'BE_VENOUS_MEDIAN', 'BE_VENOUS_MEAN',\n",
        "       'BE_VENOUS_MIN', 'BE_VENOUS_MAX', 'HEMATOCRITE_MEDIAN',\n",
        "       'HEMATOCRITE_MEAN', 'HEMATOCRITE_MIN', 'HEMATOCRITE_MAX',\n",
        "       'HEMOGLOBIN_MEDIAN', 'HEMOGLOBIN_MEAN', 'HEMOGLOBIN_MIN',\n",
        "       'HEMOGLOBIN_MAX', 'LACTATE_MEDIAN', 'LACTATE_MEAN', 'LACTATE_MIN',\n",
        "       'LACTATE_MAX', 'LEUKOCYTES_MEDIAN', 'LEUKOCYTES_MEAN', 'LEUKOCYTES_MIN',\n",
        "       'LEUKOCYTES_MAX', 'BLOODPRESSURE_DIASTOLIC_MEAN',\n",
        "       'RESPIRATORY_RATE_MEAN', 'BLOODPRESSURE_DIASTOLIC_MEDIAN',\n",
        "       'RESPIRATORY_RATE_MEDIAN', 'BLOODPRESSURE_DIASTOLIC_MIN',\n",
        "       'TEMPERATURE_MIN', 'BLOODPRESSURE_SISTOLIC_MAX', 'RESPIRATORY_RATE_MAX',\n",
        "       'OXYGEN_SATURATION_MAX', 'BLOODPRESSURE_DIASTOLIC_DIFF',\n",
        "       'BLOODPRESSURE_SISTOLIC_DIFF', 'HEART_RATE_DIFF',\n",
        "       'RESPIRATORY_RATE_DIFF', 'TEMPERATURE_DIFF', 'OXYGEN_SATURATION_DIFF',\n",
        "       'BLOODPRESSURE_DIASTOLIC_DIFF_REL', 'BLOODPRESSURE_SISTOLIC_DIFF_REL',\n",
        "       'HEART_RATE_DIFF_REL', 'RESPIRATORY_RATE_DIFF_REL',\n",
        "       'TEMPERATURE_DIFF_REL', 'OXYGEN_SATURATION_DIFF_REL', 'WINDOW', 'ICU']]\n",
        "\n",
        "\n",
        "X = xgb_columns.drop('ICU', axis=1)\n",
        "y = df['ICU']\n",
        "\n",
        "X_train, X_test, y_train, y_test = train_test_split(X,y, test_size=0.30, random_state=42)\n",
        "\n",
        "mdl = XGBClassifier(random_state=42)\n",
        "mdl.fit(X_train, y_train)\n",
        "y_pred = mdl.predict(X_test)\n",
        "y_proba = mdl.predict_proba(X_test)[:,1]\n",
        "\n",
        "\n",
        "# objective function \n",
        "def objective(params):\n",
        "  return -average_precision_score(y_test, y_proba)"
      ],
      "execution_count": 22,
      "outputs": []
    },
    {
      "cell_type": "code",
      "metadata": {
        "id": "K54HyR7fie5J",
        "colab_type": "code",
        "colab": {}
      },
      "source": [
        "#probability of distribution of parameters\n",
        "\n",
        "spaces_xgboost = {'n_estimators': hp.randint('n_estimators', 1200),\n",
        "          'learning_rate': hp.loguniform('learning_rate', 1e-5, 1e-1),\n",
        "          'max_depth': hp.randint('max_depth', 30),\n",
        "          'min_child_weight': hp.uniform('min_child_weight', 0,20),\n",
        "          'reg_lambda': hp.uniform('reg_lambda', 0.001, 3),\n",
        "          'reg_alpha': hp.uniform('reg_alpha', 0.001, 3),\n",
        "          'gamma': hp.uniform('gamma', 0,10),\n",
        "          'max_delta_step': hp.uniform('max_delta_step', 0, 10),\n",
        "          'max_leaves': hp.randint('max_leaves', 30),\n",
        "          'colsample_bytree': hp.uniform('colsample_bytree', 0.1,1.0),\n",
        "          'colsample_bylevel': hp.uniform('colsample_bylevel', 0.1, 1.0),\n",
        "          'scale_pos_weight': hp.randint('scale_pos_weight', 10)}"
      ],
      "execution_count": 23,
      "outputs": []
    },
    {
      "cell_type": "code",
      "metadata": {
        "id": "nQx6P3vFolAI",
        "colab_type": "code",
        "colab": {
          "base_uri": "https://localhost:8080/",
          "height": 34
        },
        "outputId": "8e73ce8f-3cc7-4e30-fb96-8a5b5e18e875"
      },
      "source": [
        "# Bayesian Optimization \n",
        "trials = Trials()\n",
        "xgboost_tuning = fmin(objective, spaces_xgboost, algo=tpe.suggest, max_evals=100, trials=trials, verbose=1)"
      ],
      "execution_count": 24,
      "outputs": [
        {
          "output_type": "stream",
          "text": [
            "100%|██████████| 100/100 [00:02<00:00, 39.87it/s, best loss: -0.821110270865465]\n"
          ],
          "name": "stdout"
        }
      ]
    },
    {
      "cell_type": "code",
      "metadata": {
        "id": "bLeM1M0MolDU",
        "colab_type": "code",
        "colab": {
          "base_uri": "https://localhost:8080/",
          "height": 221
        },
        "outputId": "32344a64-8fa5-43d8-9c7a-dddf841bdd92"
      },
      "source": [
        "# best params \n",
        "xgboost_tuning"
      ],
      "execution_count": 25,
      "outputs": [
        {
          "output_type": "execute_result",
          "data": {
            "text/plain": [
              "{'colsample_bylevel': 0.7534683750845167,\n",
              " 'colsample_bytree': 0.17649326256281112,\n",
              " 'gamma': 5.893978704207199,\n",
              " 'learning_rate': 1.0833495977812617,\n",
              " 'max_delta_step': 2.557083528493642,\n",
              " 'max_depth': 21,\n",
              " 'max_leaves': 25,\n",
              " 'min_child_weight': 1.256311419355165,\n",
              " 'n_estimators': 808,\n",
              " 'reg_alpha': 1.1758146990672385,\n",
              " 'reg_lambda': 1.7490422694511372,\n",
              " 'scale_pos_weight': 2}"
            ]
          },
          "metadata": {
            "tags": []
          },
          "execution_count": 25
        }
      ]
    },
    {
      "cell_type": "code",
      "metadata": {
        "id": "o_ld0TxMqRsr",
        "colab_type": "code",
        "colab": {
          "base_uri": "https://localhost:8080/",
          "height": 238
        },
        "outputId": "4203c7dc-fdee-4903-ea59-a132555f37ff"
      },
      "source": [
        "# XGBoost tuning\n",
        "xgboost = XGBClassifier(**xgboost_tuning, random_state=42)\n",
        "xgboost.fit(X_train, y_train)\n",
        "y_pred = xgboost.predict(X_test)\n",
        "y_proba = xgboost.predict_proba(X_test)[:,1]\n",
        "print(classification_report(y_test, y_pred))\n",
        "\n",
        "\n",
        "# XGBoost summary \n",
        "print('\\n')\n",
        "print('AUC: {}'.format(round(roc_auc_score(y_test, y_proba),2)))\n",
        "print('Precision-Recall: {}'.format(round(average_precision_score(y_test, y_proba),2)))"
      ],
      "execution_count": 26,
      "outputs": [
        {
          "output_type": "stream",
          "text": [
            "              precision    recall  f1-score   support\n",
            "\n",
            "           0       0.89      0.88      0.88       413\n",
            "           1       0.71      0.72      0.71       165\n",
            "\n",
            "    accuracy                           0.83       578\n",
            "   macro avg       0.80      0.80      0.80       578\n",
            "weighted avg       0.83      0.83      0.83       578\n",
            "\n",
            "\n",
            "\n",
            "AUC: 0.87\n",
            "Precision-Recall: 0.76\n"
          ],
          "name": "stdout"
        }
      ]
    },
    {
      "cell_type": "markdown",
      "metadata": {
        "id": "Dd_mx5LnwXA_",
        "colab_type": "text"
      },
      "source": [
        "<br>\n",
        "<hr>\n",
        "<br>\n",
        "\n",
        "#### Tuning LightGBM\n",
        "\n",
        "<br>"
      ]
    },
    {
      "cell_type": "code",
      "metadata": {
        "id": "wdYCD1kxigy_",
        "colab_type": "code",
        "colab": {}
      },
      "source": [
        "# TOP 50 features LightGBM \n",
        "lightgbm_columns = df[['AGE_ABOVE65', 'AGE_PERCENTIL', 'ALBUMIN_MIN', 'ALBUMIN_MAX',\n",
        "       'BE_ARTERIAL_MEDIAN', 'BE_ARTERIAL_MEAN', 'BE_ARTERIAL_MIN',\n",
        "       'BE_ARTERIAL_MAX', 'BE_VENOUS_MEDIAN', 'BE_VENOUS_MEAN',\n",
        "       'BE_VENOUS_MIN', 'BE_VENOUS_MAX', 'HEMATOCRITE_MEDIAN',\n",
        "       'HEMATOCRITE_MEAN', 'HEMATOCRITE_MIN', 'HEMATOCRITE_MAX',\n",
        "       'HEMOGLOBIN_MEDIAN', 'HEMOGLOBIN_MEAN', 'HEMOGLOBIN_MIN',\n",
        "       'HEMOGLOBIN_MAX', 'LACTATE_MEDIAN', 'LACTATE_MEAN', 'LACTATE_MIN',\n",
        "       'LACTATE_MAX', 'LEUKOCYTES_MEDIAN', 'LEUKOCYTES_MEAN', 'LEUKOCYTES_MIN',\n",
        "       'LEUKOCYTES_MAX', 'BLOODPRESSURE_DIASTOLIC_MEAN',\n",
        "       'RESPIRATORY_RATE_MEAN', 'BLOODPRESSURE_DIASTOLIC_MEDIAN',\n",
        "       'RESPIRATORY_RATE_MEDIAN', 'BLOODPRESSURE_DIASTOLIC_MIN',\n",
        "       'TEMPERATURE_MIN', 'BLOODPRESSURE_SISTOLIC_MAX', 'RESPIRATORY_RATE_MAX',\n",
        "       'OXYGEN_SATURATION_MAX', 'BLOODPRESSURE_DIASTOLIC_DIFF',\n",
        "       'BLOODPRESSURE_SISTOLIC_DIFF', 'HEART_RATE_DIFF',\n",
        "       'RESPIRATORY_RATE_DIFF', 'TEMPERATURE_DIFF', 'OXYGEN_SATURATION_DIFF',\n",
        "       'BLOODPRESSURE_DIASTOLIC_DIFF_REL', 'BLOODPRESSURE_SISTOLIC_DIFF_REL',\n",
        "       'HEART_RATE_DIFF_REL', 'RESPIRATORY_RATE_DIFF_REL',\n",
        "       'TEMPERATURE_DIFF_REL', 'OXYGEN_SATURATION_DIFF_REL', 'WINDOW', 'ICU']]\n",
        "\n",
        "\n",
        "X = lightgbm_columns.drop('ICU', axis=1)\n",
        "y = df['ICU']\n",
        "\n",
        "X_train, X_test, y_train, y_test = train_test_split(X,y, test_size=0.30, random_state=42)\n",
        "\n",
        "\n",
        "# objective function \n",
        "def objective(params):\n",
        "  return -average_precision_score(y_test, y_proba)"
      ],
      "execution_count": 27,
      "outputs": []
    },
    {
      "cell_type": "code",
      "metadata": {
        "id": "4jCoTtn8wt4G",
        "colab_type": "code",
        "colab": {}
      },
      "source": [
        "#probability of distribution of parameters\n",
        "\n",
        "spaces_lightgbm = {'n_estimators': hp.randint('n_estimators', 1000),\n",
        "          'num_leaves': hp.randint('num_leaves', 100),\n",
        "          'learning_rate': hp.loguniform('learning_rate', 1e-5, 1e-1),\n",
        "          'max_depth': hp.randint('max_depth', 30),\n",
        "          'min_child_samples': hp.uniform('min_child_samples', 0,20),\n",
        "          'lambda_l1': hp.uniform('lambda_l1', 0.001, 3),\n",
        "          'lambda_l2': hp.uniform('lambda_l2', 0.001, 3),\n",
        "          'min_data_in_leaf': hp.randint('min_data_in_leaf', 40)}"
      ],
      "execution_count": 28,
      "outputs": []
    },
    {
      "cell_type": "code",
      "metadata": {
        "id": "Ko4W0oArwuMp",
        "colab_type": "code",
        "colab": {
          "base_uri": "https://localhost:8080/",
          "height": 34
        },
        "outputId": "998df970-21ff-478e-b0e2-d97f11e8b3cf"
      },
      "source": [
        "# Bayesian Optimization \n",
        "trials = Trials()\n",
        "lightgbm_tuning = fmin(objective, spaces_lightgbm, algo=tpe.suggest, max_evals=100, trials=trials, verbose=1)"
      ],
      "execution_count": 29,
      "outputs": [
        {
          "output_type": "stream",
          "text": [
            "100%|██████████| 100/100 [00:01<00:00, 69.62it/s, best loss: -0.7643681394177468]\n"
          ],
          "name": "stdout"
        }
      ]
    },
    {
      "cell_type": "code",
      "metadata": {
        "id": "UcFGrebE2Dy0",
        "colab_type": "code",
        "colab": {
          "base_uri": "https://localhost:8080/",
          "height": 153
        },
        "outputId": "a8208010-056c-4c91-de01-f7599c98b60b"
      },
      "source": [
        "# best params LightGBM \n",
        "lightgbm_tuning"
      ],
      "execution_count": 30,
      "outputs": [
        {
          "output_type": "execute_result",
          "data": {
            "text/plain": [
              "{'lambda_l1': 1.8634504574130015,\n",
              " 'lambda_l2': 0.814995014929885,\n",
              " 'learning_rate': 1.0965527991673774,\n",
              " 'max_depth': 22,\n",
              " 'min_child_samples': 9.33960590799101,\n",
              " 'min_data_in_leaf': 24,\n",
              " 'n_estimators': 286,\n",
              " 'num_leaves': 53}"
            ]
          },
          "metadata": {
            "tags": []
          },
          "execution_count": 30
        }
      ]
    },
    {
      "cell_type": "code",
      "metadata": {
        "id": "sGPOv_oZ1z3l",
        "colab_type": "code",
        "colab": {
          "base_uri": "https://localhost:8080/",
          "height": 238
        },
        "outputId": "86d70e0e-f39d-48e7-a514-47862a85bc8d"
      },
      "source": [
        "# LightGBM tuning\n",
        "lightgbm = LGBMClassifier(**lightgbm_tuning, seed=42)\n",
        "lightgbm.fit(X_train, y_train)\n",
        "y_pred = xgboost.predict(X_test)\n",
        "y_proba = lightgbm.predict_proba(X_test)[:,1]\n",
        "print(classification_report(y_test, y_pred))\n",
        "\n",
        "\n",
        "# LightGBM summary \n",
        "print('\\n')\n",
        "print('AUC: {}'.format(round(roc_auc_score(y_test, y_proba),2)))\n",
        "print('Precision-Recall: {}'.format(round(average_precision_score(y_test, y_proba),2)))"
      ],
      "execution_count": 31,
      "outputs": [
        {
          "output_type": "stream",
          "text": [
            "              precision    recall  f1-score   support\n",
            "\n",
            "           0       0.89      0.88      0.88       413\n",
            "           1       0.71      0.72      0.71       165\n",
            "\n",
            "    accuracy                           0.83       578\n",
            "   macro avg       0.80      0.80      0.80       578\n",
            "weighted avg       0.83      0.83      0.83       578\n",
            "\n",
            "\n",
            "\n",
            "AUC: 0.89\n",
            "Precision-Recall: 0.79\n"
          ],
          "name": "stdout"
        }
      ]
    },
    {
      "cell_type": "markdown",
      "metadata": {
        "id": "SV72LLVw4RQI",
        "colab_type": "text"
      },
      "source": [
        "<br>\n",
        "<hr>\n",
        "<br>"
      ]
    },
    {
      "cell_type": "markdown",
      "metadata": {
        "id": "nSkzHtgt4eNr",
        "colab_type": "text"
      },
      "source": [
        "### Tuning CatBoost "
      ]
    },
    {
      "cell_type": "code",
      "metadata": {
        "id": "pCmm7SUAjoiw",
        "colab_type": "code",
        "colab": {}
      },
      "source": [
        "# TOP 50 features CatBoost  \n",
        "catboost_columns = df[['AGE_ABOVE65', 'AGE_PERCENTIL', 'ALBUMIN_MIN', 'ALBUMIN_MAX',\n",
        "       'BE_ARTERIAL_MEDIAN', 'BE_ARTERIAL_MEAN', 'BE_ARTERIAL_MIN',\n",
        "       'BE_ARTERIAL_MAX', 'BE_VENOUS_MEDIAN', 'BE_VENOUS_MEAN',\n",
        "       'BE_VENOUS_MIN', 'BE_VENOUS_MAX', 'HEMATOCRITE_MEDIAN',\n",
        "       'HEMATOCRITE_MEAN', 'HEMATOCRITE_MIN', 'HEMATOCRITE_MAX',\n",
        "       'HEMOGLOBIN_MEDIAN', 'HEMOGLOBIN_MEAN', 'HEMOGLOBIN_MIN',\n",
        "       'HEMOGLOBIN_MAX', 'LACTATE_MEDIAN', 'LACTATE_MEAN', 'LACTATE_MIN',\n",
        "       'LACTATE_MAX', 'LEUKOCYTES_MEDIAN', 'LEUKOCYTES_MEAN', 'LEUKOCYTES_MIN',\n",
        "       'LEUKOCYTES_MAX', 'BLOODPRESSURE_DIASTOLIC_MEAN',\n",
        "       'RESPIRATORY_RATE_MEAN', 'BLOODPRESSURE_DIASTOLIC_MEDIAN',\n",
        "       'RESPIRATORY_RATE_MEDIAN', 'BLOODPRESSURE_DIASTOLIC_MIN',\n",
        "       'TEMPERATURE_MIN', 'BLOODPRESSURE_SISTOLIC_MAX', 'RESPIRATORY_RATE_MAX',\n",
        "       'OXYGEN_SATURATION_MAX', 'BLOODPRESSURE_DIASTOLIC_DIFF',\n",
        "       'BLOODPRESSURE_SISTOLIC_DIFF', 'HEART_RATE_DIFF',\n",
        "       'RESPIRATORY_RATE_DIFF', 'TEMPERATURE_DIFF', 'OXYGEN_SATURATION_DIFF',\n",
        "       'BLOODPRESSURE_DIASTOLIC_DIFF_REL', 'BLOODPRESSURE_SISTOLIC_DIFF_REL',\n",
        "       'HEART_RATE_DIFF_REL', 'RESPIRATORY_RATE_DIFF_REL',\n",
        "       'TEMPERATURE_DIFF_REL', 'OXYGEN_SATURATION_DIFF_REL', 'WINDOW', 'ICU']]\n",
        "\n",
        "\n",
        "\n",
        "X = catboost_columns.drop('ICU', axis=1)\n",
        "y = df['ICU']\n",
        "\n",
        "X_train, X_test, y_train, y_test = train_test_split(X,y, test_size=0.30, random_state=42)\n",
        "\n",
        "\n",
        "\n",
        "# objective function \n",
        "def objective(params):\n",
        "  return -average_precision_score(y_test, y_proba)"
      ],
      "execution_count": 32,
      "outputs": []
    },
    {
      "cell_type": "code",
      "metadata": {
        "id": "tKc0Qwonjon4",
        "colab_type": "code",
        "colab": {}
      },
      "source": [
        "#probability of distribution of parameters\n",
        "\n",
        "spaces_catboost = {'iterations': hp.randint('iterations', 1000),\n",
        "                  'learning_rate': hp.loguniform('learning_rate', 1e-5, 1e-1),\n",
        "                  'depth': hp.randint('depth', 10),\n",
        "                  'l2_leaf_reg': hp.uniform('l2_leaf_reg', 0.01, 3),\n",
        "                  'bagging_temperature': hp.randint('bagging_temperature', 20),\n",
        "                  'random_strength': hp.loguniform('random_strength', 1e-9, 10),\n",
        "                  'scale_pos_weight': hp.uniform('scale_pos_weight', 0.01, 1.0)\n",
        "                  }"
      ],
      "execution_count": 33,
      "outputs": []
    },
    {
      "cell_type": "code",
      "metadata": {
        "id": "SKSJXR9_SFcB",
        "colab_type": "code",
        "colab": {
          "base_uri": "https://localhost:8080/",
          "height": 34
        },
        "outputId": "1caa6df5-e1e2-42b5-8e6f-9a3e6ab1639a"
      },
      "source": [
        "# Bayesian Optimization \n",
        "trials = Trials()\n",
        "catboost_tuning = fmin(objective, spaces_catboost, algo=tpe.suggest, max_evals=100, trials=trials, verbose=1)"
      ],
      "execution_count": 34,
      "outputs": [
        {
          "output_type": "stream",
          "text": [
            "100%|██████████| 100/100 [00:01<00:00, 70.22it/s, best loss: -0.7856801218271303]\n"
          ],
          "name": "stdout"
        }
      ]
    },
    {
      "cell_type": "code",
      "metadata": {
        "id": "2nWQ3Ad3StC8",
        "colab_type": "code",
        "colab": {
          "base_uri": "https://localhost:8080/",
          "height": 136
        },
        "outputId": "0254238d-9d28-47e3-f9a6-bb2920ce3994"
      },
      "source": [
        "# best params Catboost \n",
        "catboost_tuning"
      ],
      "execution_count": 35,
      "outputs": [
        {
          "output_type": "execute_result",
          "data": {
            "text/plain": [
              "{'bagging_temperature': 13,\n",
              " 'depth': 7,\n",
              " 'iterations': 256,\n",
              " 'l2_leaf_reg': 1.4946599504685933,\n",
              " 'learning_rate': 1.0064562567631183,\n",
              " 'random_strength': 1.377931415132763,\n",
              " 'scale_pos_weight': 0.16417851918992257}"
            ]
          },
          "metadata": {
            "tags": []
          },
          "execution_count": 35
        }
      ]
    },
    {
      "cell_type": "code",
      "metadata": {
        "id": "Um6RZeLrjoq9",
        "colab_type": "code",
        "colab": {
          "base_uri": "https://localhost:8080/",
          "height": 255
        },
        "outputId": "461f91e5-5d04-4569-8a9f-62b777ce3cba"
      },
      "source": [
        "# Catboost Tuning \n",
        "catboost = CatBoostClassifier(**catboost_tuning,\n",
        "                         random_seed=42,\n",
        "                         eval_metric='Precision',\n",
        "                         task_type= 'CPU',\n",
        "                         verbose=False)\n",
        "catboost.fit(X_train, y_train)\n",
        "y_pred = catboost.predict(X_test)\n",
        "y_proba = catboost.predict_proba(X_test)[:,1]\n",
        "print(classification_report(y_test, y_pred))\n",
        "\n",
        "# CatBoost summary \n",
        "print('\\n')\n",
        "print('AUC: {}'.format(round(roc_auc_score(y_test, y_proba),2)))\n",
        "print('Precision-Recall: {}'.format(round(average_precision_score(y_test, y_proba),2)))"
      ],
      "execution_count": 36,
      "outputs": [
        {
          "output_type": "stream",
          "text": [
            "learning rate is greater than 1. You probably need to decrease learning rate.\n"
          ],
          "name": "stderr"
        },
        {
          "output_type": "stream",
          "text": [
            "              precision    recall  f1-score   support\n",
            "\n",
            "           0       0.84      0.97      0.90       413\n",
            "           1       0.89      0.55      0.68       165\n",
            "\n",
            "    accuracy                           0.85       578\n",
            "   macro avg       0.87      0.76      0.79       578\n",
            "weighted avg       0.86      0.85      0.84       578\n",
            "\n",
            "\n",
            "\n",
            "AUC: 0.85\n",
            "Precision-Recall: 0.77\n"
          ],
          "name": "stdout"
        }
      ]
    },
    {
      "cell_type": "markdown",
      "metadata": {
        "id": "9e7ByGiryEb1",
        "colab_type": "text"
      },
      "source": [
        "<br>\n",
        "<hr>\n",
        "<br>\n",
        "<br>\n",
        "\n",
        "### 7. Validation \n",
        "\n",
        "\n",
        "In this step we will create a robust cross-validation for each Gradient Boosting.\n",
        "\n",
        "We chose to apply the <b> StratifiedKFold </b> which, unlike Sklearn's standard KFold, it maintains the proportion of the classes in each fold allowing no class imbalance in the validation.\n",
        "\n",
        "\n",
        "<br>\n",
        "<hr>\n",
        "<br>"
      ]
    },
    {
      "cell_type": "code",
      "metadata": {
        "id": "l1NPxF9o9zao",
        "colab_type": "code",
        "colab": {}
      },
      "source": [
        "# Cross validation function \n",
        "\n",
        "def cross_validation(X, model, name, cv=5):\n",
        "  \n",
        "  # features | class \n",
        "  X = X\n",
        "  y = df['ICU']\n",
        "\n",
        "  # results metrics \n",
        "  accuracy = []\n",
        "  precision = []\n",
        "  recall = []\n",
        "  auc = []\n",
        "  precision_recall = []\n",
        "\n",
        "  # StratifiedKFold \n",
        "  KFold = StratifiedKFold(n_splits=cv, shuffle=True, random_state=42)\n",
        "\n",
        "  for train_index, test_index in KFold.split(X,y):\n",
        "    # Train and Test \n",
        "    X_train, X_test = X.iloc[train_index], X.iloc[test_index]\n",
        "    y_train, y_test = y.iloc[train_index], y.iloc[test_index]\n",
        "    print('Train: {}'.format(X_train.shape))\n",
        "    print('Test: {}'.format(X_test.shape))\n",
        "    print('\\n')\n",
        "\n",
        "    # Gradient boosting \n",
        "    mdl = model\n",
        "    mdl.fit(X_train, y_train)\n",
        "    y_pred = mdl.predict(X_test)\n",
        "    y_proba = mdl.predict_proba(X_test)[:,1]\n",
        "\n",
        "\n",
        "    # metrics \n",
        "    acc_results = round(accuracy_score(y_test, y_pred),5)\n",
        "    precision_results = round(precision_score(y_test, y_pred),2)\n",
        "    recall_results = round(recall_score(y_test, y_pred),2)\n",
        "    auc_results = round(roc_auc_score(y_pred, y_proba),2)\n",
        "    pr_results = round(average_precision_score(y_test, y_proba),2)\n",
        "\n",
        "\n",
        "\n",
        "\n",
        "  # append results \n",
        "  accuracy.append(acc_results)\n",
        "  precision.append(precision_results)\n",
        "  recall.append(recall_results)\n",
        "  auc.append(auc_results)\n",
        "  precision_recall.append(pr_results)\n",
        "\n",
        "\n",
        "  # show metrics \n",
        "  print('\\n')\n",
        "  print('----- Validation {} -----'.format(name))\n",
        "  print('Accuracy: {}'.format(np.mean(accuracy)))\n",
        "  print('Precision: {}'.format(np.mean(precision)))\n",
        "  print('Recall: {}'.format(np.mean(recall)))\n",
        "  print('AUC: {}'.format(np.mean(auc)))\n",
        "  print('Precision-Recall: {}'.format(np.mean(precision_recall)))  "
      ],
      "execution_count": 37,
      "outputs": []
    },
    {
      "cell_type": "code",
      "metadata": {
        "id": "9tbh9kyD9zpO",
        "colab_type": "code",
        "colab": {
          "base_uri": "https://localhost:8080/",
          "height": 493
        },
        "outputId": "b1be8c56-f6d9-4b67-a53b-6218c2f2c288"
      },
      "source": [
        "# CV XGBoost \n",
        "cross_validation(X=xgb_columns.drop('ICU', axis=1), model=xgboost, name='XGBoost',cv=5)"
      ],
      "execution_count": 38,
      "outputs": [
        {
          "output_type": "stream",
          "text": [
            "Train: (1540, 50)\n",
            "Test: (385, 50)\n",
            "\n",
            "\n",
            "Train: (1540, 50)\n",
            "Test: (385, 50)\n",
            "\n",
            "\n",
            "Train: (1540, 50)\n",
            "Test: (385, 50)\n",
            "\n",
            "\n",
            "Train: (1540, 50)\n",
            "Test: (385, 50)\n",
            "\n",
            "\n",
            "Train: (1540, 50)\n",
            "Test: (385, 50)\n",
            "\n",
            "\n",
            "\n",
            "\n",
            "----- Validation XGBoost -----\n",
            "Accuracy: 0.86234\n",
            "Precision: 0.76\n",
            "Recall: 0.72\n",
            "AUC: 1.0\n",
            "Precision-Recall: 0.83\n"
          ],
          "name": "stdout"
        }
      ]
    },
    {
      "cell_type": "code",
      "metadata": {
        "id": "mad25cWr9zsl",
        "colab_type": "code",
        "colab": {
          "base_uri": "https://localhost:8080/",
          "height": 493
        },
        "outputId": "b9ba8e57-f4e0-45ec-e3e3-93e0c4a1241f"
      },
      "source": [
        "# CV LightGBM \n",
        "cross_validation(X=lightgbm_columns.drop('ICU', axis=1), model=lightgbm, name='LightGBM',cv=5)"
      ],
      "execution_count": 39,
      "outputs": [
        {
          "output_type": "stream",
          "text": [
            "Train: (1540, 50)\n",
            "Test: (385, 50)\n",
            "\n",
            "\n",
            "Train: (1540, 50)\n",
            "Test: (385, 50)\n",
            "\n",
            "\n",
            "Train: (1540, 50)\n",
            "Test: (385, 50)\n",
            "\n",
            "\n",
            "Train: (1540, 50)\n",
            "Test: (385, 50)\n",
            "\n",
            "\n",
            "Train: (1540, 50)\n",
            "Test: (385, 50)\n",
            "\n",
            "\n",
            "\n",
            "\n",
            "----- Validation LightGBM -----\n",
            "Accuracy: 0.88052\n",
            "Precision: 0.81\n",
            "Recall: 0.72\n",
            "AUC: 1.0\n",
            "Precision-Recall: 0.83\n"
          ],
          "name": "stdout"
        }
      ]
    },
    {
      "cell_type": "code",
      "metadata": {
        "id": "54amd8-pQ8X8",
        "colab_type": "code",
        "colab": {
          "base_uri": "https://localhost:8080/",
          "height": 578
        },
        "outputId": "c09ff458-540b-4a00-b7ed-31fc7d1203e9"
      },
      "source": [
        "# CV CatBoost \n",
        "cross_validation(X=catboost_columns.drop('ICU', axis=1), model=catboost, name='CatBoost',cv=5)"
      ],
      "execution_count": 40,
      "outputs": [
        {
          "output_type": "stream",
          "text": [
            "Train: (1540, 50)\n",
            "Test: (385, 50)\n",
            "\n",
            "\n"
          ],
          "name": "stdout"
        },
        {
          "output_type": "stream",
          "text": [
            "learning rate is greater than 1. You probably need to decrease learning rate.\n"
          ],
          "name": "stderr"
        },
        {
          "output_type": "stream",
          "text": [
            "Train: (1540, 50)\n",
            "Test: (385, 50)\n",
            "\n",
            "\n"
          ],
          "name": "stdout"
        },
        {
          "output_type": "stream",
          "text": [
            "learning rate is greater than 1. You probably need to decrease learning rate.\n"
          ],
          "name": "stderr"
        },
        {
          "output_type": "stream",
          "text": [
            "Train: (1540, 50)\n",
            "Test: (385, 50)\n",
            "\n",
            "\n"
          ],
          "name": "stdout"
        },
        {
          "output_type": "stream",
          "text": [
            "learning rate is greater than 1. You probably need to decrease learning rate.\n"
          ],
          "name": "stderr"
        },
        {
          "output_type": "stream",
          "text": [
            "Train: (1540, 50)\n",
            "Test: (385, 50)\n",
            "\n",
            "\n"
          ],
          "name": "stdout"
        },
        {
          "output_type": "stream",
          "text": [
            "learning rate is greater than 1. You probably need to decrease learning rate.\n"
          ],
          "name": "stderr"
        },
        {
          "output_type": "stream",
          "text": [
            "Train: (1540, 50)\n",
            "Test: (385, 50)\n",
            "\n",
            "\n"
          ],
          "name": "stdout"
        },
        {
          "output_type": "stream",
          "text": [
            "learning rate is greater than 1. You probably need to decrease learning rate.\n"
          ],
          "name": "stderr"
        },
        {
          "output_type": "stream",
          "text": [
            "\n",
            "\n",
            "----- Validation CatBoost -----\n",
            "Accuracy: 0.87013\n",
            "Precision: 0.86\n",
            "Recall: 0.61\n",
            "AUC: 1.0\n",
            "Precision-Recall: 0.83\n"
          ],
          "name": "stdout"
        }
      ]
    },
    {
      "cell_type": "markdown",
      "metadata": {
        "id": "F1zLFtoQRF5K",
        "colab_type": "text"
      },
      "source": [
        "<br>\n",
        "<hr>\n",
        "<br>"
      ]
    },
    {
      "cell_type": "markdown",
      "metadata": {
        "id": "zf4DxSHbjpWJ",
        "colab_type": "text"
      },
      "source": [
        "<br>\n",
        "<hr>\n",
        "<br>\n",
        "<br>\n",
        "\n",
        "\n",
        "### 8. Stacking Gradient Boosting\n",
        "\n",
        "\n",
        "Ensemble methods are commonly used to boost predictive accuracy by combining the predictions of multiple machine learning models. The traditional wisdom has been to combine so-called “weak” learners. However, a more modern approach is to create an ensemble of a well-chosen collection of strong yet diverse models.\n",
        "\n",
        "<br>\n",
        "\n",
        "Let's create a stacking set with three Gradient Boosting algorithms as an experiment.\n",
        "\n",
        "<b> Stacking</b>:\n",
        "\n",
        "* XGBoost \n",
        "* LightGBM\n",
        "* CatBoost \n",
        "\n",
        "<br>\n",
        "<hr>\n",
        "<br>"
      ]
    },
    {
      "cell_type": "code",
      "metadata": {
        "id": "-KEbiqPclj5p",
        "colab_type": "code",
        "colab": {}
      },
      "source": [
        "# Three models \n",
        "clf1 = xgboost\n",
        "clf2 = lightgbm\n",
        "clf3 = catboost \n",
        "\n",
        "# meta-classifier \n",
        "meta_clf = LogisticRegression(random_state=42)\n",
        "\n",
        "# Stacking \n",
        "stack = StackingClassifier(classifiers=[clf1, clf2, clf3],\n",
        "                           use_probas=True,\n",
        "                           average_probas=False,\n",
        "                          meta_classifier=meta_clf)"
      ],
      "execution_count": 41,
      "outputs": []
    },
    {
      "cell_type": "code",
      "metadata": {
        "id": "zSceFYL7l-Lc",
        "colab_type": "code",
        "colab": {
          "base_uri": "https://localhost:8080/",
          "height": 255
        },
        "outputId": "2cc048c5-9ee8-4654-b651-74ae8f55d278"
      },
      "source": [
        "stack.fit(X_train, y_train)\n",
        "y_pred = stack.predict(X_test)\n",
        "y_proba = stack.predict_proba(X_test)[:,1]\n",
        "\n",
        "print(classification_report(y_test, y_pred))\n",
        "print('\\n')\n",
        "\n",
        "print('AUC: {}'.format(round(roc_auc_score(y_test, y_proba),2)))\n",
        "print('Precision-Recall: {}'.format(round(average_precision_score(y_test, y_proba),4)))"
      ],
      "execution_count": 42,
      "outputs": [
        {
          "output_type": "stream",
          "text": [
            "learning rate is greater than 1. You probably need to decrease learning rate.\n"
          ],
          "name": "stderr"
        },
        {
          "output_type": "stream",
          "text": [
            "              precision    recall  f1-score   support\n",
            "\n",
            "           0       0.87      0.95      0.91       413\n",
            "           1       0.83      0.65      0.73       165\n",
            "\n",
            "    accuracy                           0.86       578\n",
            "   macro avg       0.85      0.80      0.82       578\n",
            "weighted avg       0.86      0.86      0.86       578\n",
            "\n",
            "\n",
            "\n",
            "AUC: 0.9\n",
            "Precision-Recall: 0.7998\n"
          ],
          "name": "stdout"
        }
      ]
    },
    {
      "cell_type": "markdown",
      "metadata": {
        "id": "PYNPyyFbIVcv",
        "colab_type": "text"
      },
      "source": [
        "<br>\n",
        "<hr>\n",
        "<br>\n",
        "\n",
        "\n",
        "### <b>Conclusion</b> \n",
        "\n",
        "This notebook from the beginning we elaborated the modeling, aiming to maximize the <b> Precision-Recall </b> of the model that we consider to be the most important task of this problem, to identify patients who need a bed in the ICU.\n",
        "\n",
        "<br>\n",
        "\n",
        "As we saw that there were many features, we tried to reduce them at the discretion of an ANOVA test for the features that the test considered statistically significant, and we selected only 50 to reduce the complexity of the model (in another notebook that we did the part with only the feature selection , the best number of features for the models was 165 features, we chose to use only 50 to reduce complexity)\n",
        "\n",
        "<br>\n",
        "\n",
        "Applying three boosting algorithms, we expected better results in relation to the metrics, tuning the hyperparameters and using precision-recall as an objective function, there was also little impact on the predictive power of the models.\n",
        "\n",
        "<br>\n",
        "\n",
        "#### <b> Hypothesis suggestions </b>\n",
        "\n",
        "\n",
        "We formulate some hypotheses to be tested in the future as possible best solutions.\n",
        "\n",
        "<br>\n",
        "\n",
        "* <b>Feature engineering:</b> Investing more time in this step, certainly because they are largely anonymous, makes it difficult to understand, and ends up limiting some attempts due to knowledge about the data, a better treatment with features can be promising (let's explore) the amount of missing values and how to allocate them is very delicate.\n",
        "\n",
        "<br>\n",
        "\n",
        "* <b>Amount of data:</b>analyzing the dataset carefully we find that there are 1925 lines, but that a patient is present in 5 lines and grouping them all, the base has about <b> 385 </b> patients that less than 250 of them went to the ICU, in in addition to the low amount of data, we can also explore resampling techniques to balance the base.\n",
        "\n",
        "\n",
        "<br>\n",
        "\n",
        "\n",
        "* <b> H2o AutoML: </b> Finally, another solution, which we can also try is to use the AutoML tool called <b> H2o </b> which has high performance in several solutions on the market, it had the Python library and also the <b> H2o AI driverless platform </b> where everything is done automatically, is a possibility to be considered.\n",
        "\n",
        "\n",
        "<br> \n",
        "\n",
        "\n",
        "We thank you for opening and making the data available, and we will continue looking for other ways to solve this problem, immediately our ML model Stacking has <b> Precision-Recall: 80% </b> and it is our solution so far.\n",
        "\n",
        "\n",
        "<br>\n",
        "<hr>\n",
        "<br>"
      ]
    }
  ]
}